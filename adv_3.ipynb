{
 "cells": [
  {
   "cell_type": "markdown",
   "id": "e26ce39e-fea8-4f35-94e8-0e919f696dc3",
   "metadata": {},
   "source": [
    "### 1.Create a function to perform basic arithmetic operations that includes addition, subtraction, multiplication and division on a string number (e.g. \"12 + 24\" or \"23 - 21\" or \"12 // 12\" or \"12 * 21\").\n",
    "\n",
    "Here, we have 1 followed by a space, operator followed by another space and 2. For the challenge, we are going to have only two numbers between 1 valid operator. The return value should be a number.\n",
    "\n",
    "eval() is not allowed. In case of division, whenever the second number equals \"0\" return -1.\n",
    "\n",
    "For example: \"15 // 0\" ➞ -1\n",
    "\n",
    "Examples:\n",
    "\n",
    "`arithmetic_operation(\"12 + 12\") ➞ 24 // 12 + 12 = 24`\n",
    "\n",
    "`arithmetic_operation(\"12 - 12\") ➞ 24 // 12 - 12 = 0`\n",
    "\n",
    "`rithmetic_operation(\"12 * 12\") ➞ 144 // 12 * 12 = 144`\n",
    "\n",
    "`rithmetic_operation(\"12 // 0\") ➞ -1 // 12 / 0 = -1`"
   ]
  },
  {
   "cell_type": "code",
   "execution_count": 1,
   "id": "d3b21918-2612-4697-893b-2c123f6401c7",
   "metadata": {},
   "outputs": [],
   "source": [
    "def arithmetic_operation(s):\n",
    "    num1, operator, num2 = s.split()\n",
    "    num1 = int(num1)\n",
    "    num2 = int(num2)\n",
    "    \n",
    "    if operator == \"+\":\n",
    "        return num1 + num2\n",
    "    elif operator == \"-\":\n",
    "        return num1 - num2\n",
    "    elif operator == \"*\":\n",
    "        return num1 * num2\n",
    "    elif operator == \"//\":\n",
    "        if num2 == 0:\n",
    "            return -1\n",
    "        else:\n",
    "            return num1 // num2\n"
   ]
  },
  {
   "cell_type": "code",
   "execution_count": 2,
   "id": "85490589-0a34-4bd3-9326-1c4dd13ab89e",
   "metadata": {},
   "outputs": [
    {
     "name": "stdout",
     "output_type": "stream",
     "text": [
      "24\n",
      "0\n",
      "144\n",
      "-1\n"
     ]
    }
   ],
   "source": [
    "print(arithmetic_operation(\"12 + 12\"))  \n",
    "print(arithmetic_operation(\"12 - 12\"))  \n",
    "print(arithmetic_operation(\"12 * 12\"))  \n",
    "print(arithmetic_operation(\"12 // 0\"))  \n"
   ]
  },
  {
   "cell_type": "markdown",
   "id": "880add3a-80b1-49d7-8853-2f16619ebd20",
   "metadata": {},
   "source": [
    "### 2.Write a function that takes the coordinates of three points in the form of a 2d array and returns the perimeter of the triangle. The given points are the vertices of a triangle on a two-dimensional plane.\n",
    "\n",
    "Examples:\n",
    "\n",
    "`perimeter( [ [15, 7], [5, 22], [11, 1] ] ) ➞ 47.08`\n",
    "\n",
    "`perimeter( [ [0, 0], [0, 1], [1, 0] ] ) ➞ 3.42`\n",
    "\n",
    "`perimeter( [ [-10, -10], [10, 10 ], [-10, 10] ] ) ➞ 68.28`"
   ]
  },
  {
   "cell_type": "code",
   "execution_count": 10,
   "id": "e3b08739-6630-462e-ac78-d27a288117f1",
   "metadata": {},
   "outputs": [],
   "source": [
    "import math\n",
    "\n",
    "def distance(point1, point2):\n",
    "    x1, y1 = point1\n",
    "    x2, y2 = point2\n",
    "    return math.sqrt(pow(x2 - x1,2)  + pow(y2 - y1,2))\n",
    "\n",
    "def perimeter(points):\n",
    "    side1 = distance(points[0], points[1])\n",
    "    side2 = distance(points[1], points[2])\n",
    "    side3 = distance(points[2], points[0])\n",
    "    \n",
    "    return round(side1 + side2 + side3, 2)\n"
   ]
  },
  {
   "cell_type": "code",
   "execution_count": 12,
   "id": "14fee92c-85b3-49aa-b784-41ad3996b94b",
   "metadata": {},
   "outputs": [
    {
     "name": "stdout",
     "output_type": "stream",
     "text": [
      "47.08\n",
      "3.41\n",
      "68.28\n"
     ]
    }
   ],
   "source": [
    "print(perimeter([[15, 7], [5, 22], [11, 1]])) \n",
    "print(perimeter([[0, 0], [0, 1], [1, 0]]))  \n",
    "print(perimeter([[-10, -10], [10, 10], [-10, 10]]))  \n"
   ]
  },
  {
   "cell_type": "markdown",
   "id": "daf4209e-e109-49e2-94c3-9799e54775ae",
   "metadata": {},
   "source": [
    "### 3. A city skyline can be represented as a 2-D list with 1s representing buildings. In the example below, the height of the tallest building is 4 (second-most right column).\n",
    "\n",
    "[[0, 0, 0, 0, 0, 0],\n",
    "\n",
    "[0, 0, 0, 0, 1, 0],\n",
    "\n",
    "[0, 0, 1, 0, 1, 0],\n",
    "\n",
    "[0, 1, 1, 1, 1, 0],\n",
    "\n",
    "[1, 1, 1, 1, 1, 1]]\n",
    "\n",
    "Create a function that takes a skyline (2-D list of 0&#39;s and 1&#39;s) and returns the\n",
    "height of the tallest skyscraper."
   ]
  },
  {
   "cell_type": "code",
   "execution_count": 13,
   "id": "63986a9e-9612-4367-9006-04cfb3f8fdf1",
   "metadata": {},
   "outputs": [],
   "source": [
    "def tallest_skyscraper(skyline):\n",
    "    num_rows = len(skyline)\n",
    "    num_cols = len(skyline[0])\n",
    "    max_height = 0\n",
    "\n",
    "    for col in range(num_cols):\n",
    "        height = 0\n",
    "        for row in range(num_rows):\n",
    "            if skyline[row][col] == 1:\n",
    "                height += 1\n",
    "        max_height = max(max_height, height)\n",
    "\n",
    "    return max_height\n"
   ]
  },
  {
   "cell_type": "code",
   "execution_count": 14,
   "id": "6ac42deb-665e-434a-90b4-ca362a3c8eb0",
   "metadata": {},
   "outputs": [
    {
     "data": {
      "text/plain": [
       "3"
      ]
     },
     "execution_count": 14,
     "metadata": {},
     "output_type": "execute_result"
    }
   ],
   "source": [
    "tallest_skyscraper([\n",
    "[0, 0, 0, 0],\n",
    "[0, 1, 0, 0],\n",
    "[0, 1, 1, 0],\n",
    "[1, 1, 1, 1]\n",
    "])"
   ]
  },
  {
   "cell_type": "code",
   "execution_count": 15,
   "id": "d46ca024-2519-4109-8cd2-82ca9ca798d7",
   "metadata": {},
   "outputs": [
    {
     "data": {
      "text/plain": [
       "4"
      ]
     },
     "execution_count": 15,
     "metadata": {},
     "output_type": "execute_result"
    }
   ],
   "source": [
    "tallest_skyscraper([\n",
    "[0, 1, 0, 0],\n",
    "[0, 1, 0, 0],\n",
    "[0, 1, 1, 0],\n",
    "[1, 1, 1, 1]\n",
    "])"
   ]
  },
  {
   "cell_type": "code",
   "execution_count": 16,
   "id": "629690df-140f-44c5-a96c-c608968f21e1",
   "metadata": {},
   "outputs": [
    {
     "data": {
      "text/plain": [
       "2"
      ]
     },
     "execution_count": 16,
     "metadata": {},
     "output_type": "execute_result"
    }
   ],
   "source": [
    "tallest_skyscraper([\n",
    "[0, 0, 0, 0],\n",
    "[0, 0, 0, 0],\n",
    "[1, 1, 1, 0],\n",
    "[1, 1, 1, 1]\n",
    "])"
   ]
  },
  {
   "cell_type": "markdown",
   "id": "90f7ed6f-f535-444d-8694-a4c7c952df3e",
   "metadata": {},
   "source": [
    "### 4.A financial institution provides professional services to banks and claims charges from the customers based on the number of man-days provided. Internally, it has set a scheme to motivate and reward staff to meet and exceed targeted billable utilization and revenues by paying a bonus for each day claimed from customers in excess of a threshold target.\n",
    "\n",
    "This quarterly scheme is calculated with a threshold target of 32 days per quarter, and the incentive payment for each billable day in excess of such threshold target is shown as follows:\n",
    "\n",
    "Days Bonus 0 to 32 days Zero 33 to 40 days SGD$325 per billable day 41 to 48 days SGD$550 per billable day Greater than 48 days SGD$600 per billable day\n",
    "\n",
    "Please note that incentive payment is calculated progressively. As an example, if an employee reached total billable days of 45 in a quarter, his/her incentive payment is computed as follows:\n",
    "32*0 + 8*325 + 5*550 = 5350\n",
    "Write a function to read the billable days of an employee and return the bonus he/she has obtained in that quarter.\n",
    "\n",
    "Examples:\n",
    "\n",
    "bonus(15) ➞ 0\n",
    "\n",
    "bonus(37) ➞ 1625\n",
    "\n",
    "bonus(50) ➞ 8200"
   ]
  },
  {
   "cell_type": "code",
   "execution_count": 21,
   "id": "d6640176-5011-4e03-99fc-62cbeded1549",
   "metadata": {},
   "outputs": [],
   "source": [
    "def bonus(billable_days):\n",
    "    threshold = 32\n",
    "    bonus = 0\n",
    "\n",
    "    if billable_days > threshold:\n",
    "        if billable_days <= 40:\n",
    "            bonus = (billable_days - threshold) * 325\n",
    "        elif billable_days <= 48:\n",
    "            bonus = 8 * 325 + (billable_days - 40) * 550\n",
    "        else:\n",
    "            bonus = 8 * 325 + 8 * 550 + (billable_days - 48) * 600\n",
    "    \n",
    "    return bonus\n"
   ]
  },
  {
   "cell_type": "code",
   "execution_count": 22,
   "id": "07188dcf-4ff1-4173-8aff-5227db28862a",
   "metadata": {},
   "outputs": [
    {
     "name": "stdout",
     "output_type": "stream",
     "text": [
      "0\n",
      "1625\n",
      "8200\n"
     ]
    }
   ],
   "source": [
    "print(bonus(15))  \n",
    "print(bonus(37))  \n",
    "print(bonus(50))  \n"
   ]
  },
  {
   "cell_type": "markdown",
   "id": "9c591460-34b4-4b19-8793-16918bc3f0cd",
   "metadata": {},
   "source": [
    "### 5. A number is said to be Disarium if the sum of its digits raised to their respective positions is the number itself.\n",
    "\n",
    "Create a function that determines whether a number is a Disarium or not.\n",
    "\n",
    "Examples\n",
    "\n",
    "`is_disarium(75) ➞ False`\n",
    "\n",
    "`7^1 + 5^2 = 7 + 25 = 32`\n",
    "\n",
    "`is_disarium(135) ➞ True`\n",
    "\n",
    "`1^1 + 3^2 + 5^3 = 1 + 9 + 125 = 135`\n",
    "\n",
    "`is_disarium(544) ➞ False`\n",
    "\n",
    "`is_disarium(518) ➞ True`\n",
    "\n",
    "`is_disarium(466) ➞ False`\n",
    "\n",
    "`is_disarium(8) ➞ True`"
   ]
  },
  {
   "cell_type": "code",
   "execution_count": 23,
   "id": "56c35dc4-e5d6-4f36-badd-8dec02b6a1fc",
   "metadata": {},
   "outputs": [],
   "source": [
    "def is_disarium(number):\n",
    "    # Convert the number to string to access individual digits\n",
    "    digits = str(number)\n",
    "    length = len(digits)\n",
    "    disarium_sum = 0\n",
    "\n",
    "    # Calculate the sum of digits raised to their positions\n",
    "    for i in range(length):\n",
    "        disarium_sum += int(digits[i]) ** (i + 1)\n",
    "\n",
    "    # Check if the sum is equal to the original number\n",
    "    return disarium_sum == number\n"
   ]
  },
  {
   "cell_type": "code",
   "execution_count": 24,
   "id": "71f87937-698a-4d53-ba2b-03a34dacf85c",
   "metadata": {},
   "outputs": [
    {
     "name": "stdout",
     "output_type": "stream",
     "text": [
      "False\n",
      "True\n",
      "False\n",
      "True\n",
      "False\n",
      "True\n"
     ]
    }
   ],
   "source": [
    "print(is_disarium(75))  \n",
    "print(is_disarium(135)) \n",
    "print(is_disarium(544))  \n",
    "print(is_disarium(518))  \n",
    "print(is_disarium(466))  \n",
    "print(is_disarium(8))    \n"
   ]
  },
  {
   "cell_type": "code",
   "execution_count": null,
   "id": "d4665a4f-6604-49fb-8976-3667fb2c4f64",
   "metadata": {},
   "outputs": [],
   "source": []
  }
 ],
 "metadata": {
  "kernelspec": {
   "display_name": "Python 3 (ipykernel)",
   "language": "python",
   "name": "python3"
  },
  "language_info": {
   "codemirror_mode": {
    "name": "ipython",
    "version": 3
   },
   "file_extension": ".py",
   "mimetype": "text/x-python",
   "name": "python",
   "nbconvert_exporter": "python",
   "pygments_lexer": "ipython3",
   "version": "3.10.6"
  }
 },
 "nbformat": 4,
 "nbformat_minor": 5
}
