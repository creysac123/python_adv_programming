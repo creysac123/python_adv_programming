{
 "cells": [
  {
   "cell_type": "markdown",
   "id": "9eab2add-1766-455e-b8ec-8b09bd232665",
   "metadata": {},
   "source": [
    "### 1. For this challenge, forget how to add two numbers together. The best explanation on what to do for this function is this meme:\n",
    "\n",
    "Examples\n",
    "\n",
    "meme_sum(26, 39) ➞ 515\n",
    "\n",
    " 2+3 = 5, 6+9 = 15\n",
    " \n",
    " 26 + 39 = 515\n",
    " \n",
    "meme_sum(122, 81) ➞ 1103\n",
    "\n",
    "1+0 = 1, 2+8 = 10, 2+1 = 3\n",
    "\n",
    "122 + 81 = 1103\n",
    "\n",
    "meme_sum(1222, 30277) ➞ 31499"
   ]
  },
  {
   "cell_type": "code",
   "execution_count": 3,
   "id": "994ad223-f58f-42d3-a236-d4b3df0263be",
   "metadata": {},
   "outputs": [
    {
     "name": "stdout",
     "output_type": "stream",
     "text": [
      "515\n",
      "1103\n",
      "31499\n"
     ]
    }
   ],
   "source": [
    "def meme_sum(num1, num2):\n",
    "    result = \"\"\n",
    "\n",
    "    str_num1 = str(num1)\n",
    "    str_num2 = str(num2)\n",
    "\n",
    "    max_len = max(len(str_num1), len(str_num2))\n",
    "    str_num1 = str_num1.zfill(max_len)\n",
    "    str_num2 = str_num2.zfill(max_len)\n",
    "\n",
    "    for digit1, digit2 in zip(str_num1, str_num2):\n",
    "        digit_sum = int(digit1) + int(digit2)\n",
    "        result += str(digit_sum)\n",
    "\n",
    "    return int(result)\n",
    "\n",
    "print(meme_sum(26, 39))  \n",
    "print(meme_sum(122, 81))  \n",
    "print(meme_sum(1222, 30277)) \n"
   ]
  },
  {
   "cell_type": "markdown",
   "id": "bdc1515a-213e-48cd-b96d-a5e05aa54439",
   "metadata": {},
   "source": [
    "### 2. Given an integer, create a function that returns the next prime. If the number is prime, return the number itself.\n",
    "\n",
    "Examples\n",
    "\n",
    "next_prime(12) ➞ 13\n",
    "\n",
    "next_prime(24) ➞ 29\n",
    "\n",
    "next_prime(11) ➞ 11\n",
    "\n",
    "11 is a prime, so we return the number itself."
   ]
  },
  {
   "cell_type": "code",
   "execution_count": 3,
   "id": "e00da5b8-16bf-4c96-8f6f-cb7a24397a8d",
   "metadata": {},
   "outputs": [
    {
     "name": "stdout",
     "output_type": "stream",
     "text": [
      "13\n",
      "29\n",
      "11\n",
      "2\n",
      "29\n",
      "41\n"
     ]
    }
   ],
   "source": [
    "def is_prime(num):\n",
    "    if num < 2:\n",
    "        return False\n",
    "    for i in range(2, int(num**0.5) + 1):\n",
    "        if num % i == 0:\n",
    "            return False\n",
    "    return True\n",
    "\n",
    "def next_prime(num):\n",
    "    if is_prime(num):\n",
    "        return num\n",
    "    num += 1\n",
    "    while True:\n",
    "        if is_prime(num):\n",
    "            return num\n",
    "        num += 1\n",
    "\n",
    "print(next_prime(12)) \n",
    "print(next_prime(24))  \n",
    "print(next_prime(11))  \n",
    "# Additional tests\n",
    "print(next_prime(2)) \n",
    "print(next_prime(29))  \n",
    "print(next_prime(41))  \n"
   ]
  },
  {
   "cell_type": "markdown",
   "id": "57828e8d-e336-413a-a6e8-bfc64e7e5690",
   "metadata": {},
   "source": [
    "### 3. If a person traveled up a hill for 18mins at 20mph and then traveled back down the same path at 60mph then their average speed traveled was 30mph. Write a function that returns the average speed traveled given an uphill time, uphill rate and a downhill rate. Uphill time is given in minutes. Return the rate as an integer (mph). No rounding is necessary.\n",
    "\n",
    "Examples\n",
    "\n",
    "ave_spd(18, 20, 60) ➞ 30\n",
    "\n",
    "ave_spd(30, 10, 30) ➞ 15\n",
    "\n",
    "ave_spd(30, 8, 24) ➞ 12"
   ]
  },
  {
   "cell_type": "code",
   "execution_count": 4,
   "id": "3c97a485-0a0f-4e2f-9517-5f019022c916",
   "metadata": {},
   "outputs": [
    {
     "name": "stdout",
     "output_type": "stream",
     "text": [
      "30\n",
      "15\n",
      "12\n"
     ]
    }
   ],
   "source": [
    "def ave_spd(uphill_time, uphill_rate, downhill_rate):\n",
    "    average_speed = (2 * uphill_rate * downhill_rate) / (uphill_rate + downhill_rate)\n",
    "    return int(average_speed)\n",
    "\n",
    "print(ave_spd(18, 20, 60)) \n",
    "print(ave_spd(30, 10, 30))  \n",
    "print(ave_spd(30, 8, 24))   \n"
   ]
  },
  {
   "cell_type": "markdown",
   "id": "5a3a80a2-a6c2-4453-918e-430aeb276de8",
   "metadata": {},
   "source": [
    "### 4. The Kempner Function, applied to a composite number, permits to find the smallest integer greater than zero whose factorial is exactly divided by the number.\n",
    "\n",
    "kempner(6) ➞ 3 1! = 1 % 6 > 0 2! = 2 % 6 > 0 3! = 6 % 6 === 0\n",
    "\n",
    "kempner(10) ➞ 5 1! = 1 % 10 > 0 2! = 2 % 10 > 0 3! = 6 % 10 > 0 4! = 24 % 10 > 0 5! = 120 % 10 === 0\n",
    "\n",
    "A Kempner Function applied to a prime will always return the prime itself.\n",
    "\n",
    "kempner(2) ➞ 2\n",
    "\n",
    "kempner(5) ➞ 5\n",
    "\n",
    "Given an integer n, implement a Kempner Function.\n",
    "\n",
    "Examples:\n",
    "\n",
    "kempner(6) ➞ 3\n",
    "\n",
    "kempner(10) ➞ 5\n",
    "\n",
    "kempner(2) ➞ 2\n",
    "\n"
   ]
  },
  {
   "cell_type": "code",
   "execution_count": 8,
   "id": "b7ed9420-72bf-4ce0-8746-57b17d7698bf",
   "metadata": {},
   "outputs": [
    {
     "name": "stdout",
     "output_type": "stream",
     "text": [
      "3\n",
      "5\n",
      "2\n"
     ]
    }
   ],
   "source": [
    "def kempner(n):\n",
    "    factorial = 1\n",
    "    for i in range(1, n + 1):\n",
    "        factorial *= i\n",
    "        if factorial % n == 0:\n",
    "            return i\n",
    "    return n\n",
    "\n",
    "print(kempner(6)) \n",
    "print(kempner(10))  \n",
    "print(kempner(2))  \n"
   ]
  },
  {
   "cell_type": "markdown",
   "id": "168fc19e-c5c6-43e9-9017-5ea6e9fcc13a",
   "metadata": {},
   "source": [
    "### 5. You work in a factory, and your job is to take items from a conveyor belt and pack them into boxes. Each box can hold a maximum of 10 kgs. Given a list containing the weight (in kg) of each item, how many boxes would you need to pack all of the items?\n",
    "\n",
    "Example\n",
    "\n",
    "boxes([2, 1, 2, 5, 4, 3, 6, 1, 1, 9, 3, 2]) ➞ 5\n",
    "\n",
    "Box 1 = [2, 1, 2, 5] (10kg)\n",
    "\n",
    "Box 2 = [4, 3] (7kg)\n",
    "\n",
    "Box 3 = [6, 1, 1] (8kg)\n",
    "\n",
    "Box 4 = [9] (9kg)\n",
    "\n",
    "Box 5 = [3, 2] (5kg)"
   ]
  },
  {
   "cell_type": "code",
   "execution_count": 9,
   "id": "8e3f1d77-cc79-4c62-baf1-e228f732a539",
   "metadata": {},
   "outputs": [
    {
     "name": "stdout",
     "output_type": "stream",
     "text": [
      "5\n"
     ]
    }
   ],
   "source": [
    "def boxes(weights):\n",
    "    box_count = 0\n",
    "    current_weight = 0\n",
    "\n",
    "    for weight in weights:\n",
    "        if current_weight + weight <= 10:\n",
    "            current_weight += weight\n",
    "        else:\n",
    "            box_count += 1\n",
    "            current_weight = weight\n",
    "\n",
    "    if current_weight > 0:\n",
    "        box_count += 1\n",
    "\n",
    "    return box_count\n",
    "\n",
    "print(boxes([2, 1, 2, 5, 4, 3, 6, 1, 1, 9, 3, 2])) \n"
   ]
  },
  {
   "cell_type": "code",
   "execution_count": null,
   "id": "96965890-cbb0-4d11-baa4-00b8ec95d338",
   "metadata": {},
   "outputs": [],
   "source": []
  }
 ],
 "metadata": {
  "kernelspec": {
   "display_name": "Python 3 (ipykernel)",
   "language": "python",
   "name": "python3"
  },
  "language_info": {
   "codemirror_mode": {
    "name": "ipython",
    "version": 3
   },
   "file_extension": ".py",
   "mimetype": "text/x-python",
   "name": "python",
   "nbconvert_exporter": "python",
   "pygments_lexer": "ipython3",
   "version": "3.10.6"
  }
 },
 "nbformat": 4,
 "nbformat_minor": 5
}
