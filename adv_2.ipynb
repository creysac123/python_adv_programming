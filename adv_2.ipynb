{
 "cells": [
  {
   "cell_type": "markdown",
   "id": "32d8d999-2c69-4ce8-9218-d75dfff5d499",
   "metadata": {},
   "source": [
    "1.Write a function that takes a positive integer num and calculates how many dots exist in a pentagonal shape around the center dot on the Nth iteration.\n",
    "\n",
    "The first iteration is only a single dot. On the second, there are 6 dots. On the third, there are 16 dots, and on the fourth there are 31 dots.\n",
    "\n",
    " Examples:\n",
    " \n",
    "pentagonal(1) ➞ 1\n",
    "\n",
    "pentagonal(2) ➞ 6\n",
    "\n",
    "pentagonal(3) ➞ 16\n",
    "\n",
    "pentagonal(8) ➞ 141"
   ]
  },
  {
   "cell_type": "code",
   "execution_count": 1,
   "id": "4f7790c6-8776-47b7-8d8b-b987a19e327c",
   "metadata": {},
   "outputs": [],
   "source": [
    "def pentagonal(num):\n",
    "    if num == 1:\n",
    "        return 1\n",
    "    \n",
    "    dots = 1\n",
    "    for i in range(2, num+1):\n",
    "        dots += (i-1) * 5\n",
    "    \n",
    "    return dots\n"
   ]
  },
  {
   "cell_type": "code",
   "execution_count": 2,
   "id": "4d50a865-1bab-4956-8e9b-c9e12b621bdf",
   "metadata": {},
   "outputs": [
    {
     "name": "stdout",
     "output_type": "stream",
     "text": [
      "1\n",
      "6\n",
      "16\n",
      "141\n"
     ]
    }
   ],
   "source": [
    "print(pentagonal(1)) \n",
    "print(pentagonal(2))  \n",
    "print(pentagonal(3))  \n",
    "print(pentagonal(8))  \n"
   ]
  },
  {
   "cell_type": "markdown",
   "id": "493e367f-ef62-45b4-bc8d-1ed67e1a4c1f",
   "metadata": {},
   "source": [
    "### 2.. Make a function that encrypts a given input with these steps:\n",
    "\n",
    "Input: `\"apple\"`\n",
    "\n",
    "`Step 1: Reverse the input: \"elppa\"`\n",
    "\n",
    "`Step 2: Replace all vowels using the following chart:`\n",
    "\n",
    "`a => 0`\n",
    "\n",
    "`e => 1`\n",
    "\n",
    "`i => 2`\n",
    "\n",
    "`o => 2`\n",
    "\n",
    "`u => 3`\n",
    "\n",
    "`\"1lpp0\"`\n",
    "\n",
    "`Step 3: Add \"aca\" to the end of the word: \"1lpp0aca\"`\n",
    "\n",
    "`Output: \"1lpp0aca\"`\n",
    "\n",
    "Examples:\n",
    "\n",
    "`encrypt(\"banana\") ➞ \"0n0n0baca\"`\n",
    "\n",
    "`encrypt(\"karaca\") ➞ \"0c0r0kaca\"`\n",
    "\n",
    "`encrypt(\"burak\") ➞ \"k0r3baca\"`\n",
    "\n",
    "`encrypt(\"alpaca\") ➞ \"0c0pl0aca\"`"
   ]
  },
  {
   "cell_type": "code",
   "execution_count": 3,
   "id": "cfb960c8-56d7-417d-8f50-90103f0c57f0",
   "metadata": {},
   "outputs": [],
   "source": [
    "def encrypt(input_str):\n",
    "    # Step 1: Reverse the input\n",
    "    reversed_str = input_str[::-1]\n",
    "    \n",
    "    # Step 2: Replace vowels using the chart\n",
    "    chart = {'a': '0', 'e': '1', 'i': '2', 'o': '2', 'u': '3'}\n",
    "    encrypted_str = ''.join(chart.get(char, char) for char in reversed_str)\n",
    "    \n",
    "    # Step 3: Add \"aca\" to the end of the word\n",
    "    encrypted_str += 'aca'\n",
    "    \n",
    "    return encrypted_str\n"
   ]
  },
  {
   "cell_type": "code",
   "execution_count": 4,
   "id": "7f7432cc-6672-45c3-94fb-7b2e2d4bc059",
   "metadata": {},
   "outputs": [
    {
     "name": "stdout",
     "output_type": "stream",
     "text": [
      "0n0n0baca\n",
      "0c0r0kaca\n",
      "k0r3baca\n",
      "0c0pl0aca\n"
     ]
    }
   ],
   "source": [
    "print(encrypt(\"banana\"))  \n",
    "print(encrypt(\"karaca\"))  \n",
    "print(encrypt(\"burak\")) \n",
    "print(encrypt(\"alpaca\")) \n"
   ]
  },
  {
   "cell_type": "markdown",
   "id": "f83bf147-1164-413f-a46d-227fd5de76a6",
   "metadata": {},
   "source": [
    "### 3.Given the month and year as numbers, return whether that month contains a Friday 13th.(i.e You can check Python's datetime module)\n",
    "\n",
    "Examples:\n",
    "\n",
    "`has_friday_13(3, 2020) ➞ True`\n",
    "\n",
    "`as_friday_13(10, 2017) ➞ True`\n",
    "\n",
    "`has_friday_13(1, 1985) ➞ False`"
   ]
  },
  {
   "cell_type": "code",
   "execution_count": 5,
   "id": "4d20def1-9afb-4f84-871a-52578c9d1378",
   "metadata": {},
   "outputs": [],
   "source": [
    "import datetime\n",
    "\n",
    "def has_friday_13(month, year):\n",
    "    # Create a datetime object for the 13th day of the given month and year\n",
    "    date = datetime.datetime(year, month, 13)\n",
    "    \n",
    "    # Check if the day is Friday (weekday number 4 in Python's datetime module, where Monday is 0 and Sunday is 6)\n",
    "    if date.weekday() == 4:\n",
    "        return True\n",
    "    else:\n",
    "        return False\n"
   ]
  },
  {
   "cell_type": "code",
   "execution_count": 6,
   "id": "74d74947-bf0e-47ce-9ffc-8c950208629f",
   "metadata": {},
   "outputs": [
    {
     "name": "stdout",
     "output_type": "stream",
     "text": [
      "True\n",
      "True\n",
      "False\n"
     ]
    }
   ],
   "source": [
    "print(has_friday_13(3, 2020))  \n",
    "print(has_friday_13(10, 2017))  \n",
    "print(has_friday_13(1, 1985))  \n"
   ]
  },
  {
   "cell_type": "markdown",
   "id": "20e8b6dd-81fc-415c-b1b7-c793e1910d78",
   "metadata": {},
   "source": [
    "### 4.Write a regular expression that will help us count how many bad cookies are produced every day. You must use RegEx negative lookbehind.\n",
    "\n",
    "Examples:\n",
    "\n",
    "lst = [\"bad cookie\", \"good cookie\", \"bad cookie\", \"good cookie\", \"good cookie\"]\n",
    "\n",
    "pattern = \"yourregularexpressionhere\"\n",
    "\n",
    "len(re.findall(pattern, \", \".join(lst))) ➞ 2"
   ]
  },
  {
   "cell_type": "code",
   "execution_count": 7,
   "id": "5f8b3d26-00a8-462d-b6dd-0889b9b20905",
   "metadata": {},
   "outputs": [
    {
     "name": "stdout",
     "output_type": "stream",
     "text": [
      "2\n"
     ]
    }
   ],
   "source": [
    "import re\n",
    "\n",
    "lst = [\"bad cookie\", \"good cookie\", \"bad cookie\", \"good cookie\", \"good cookie\"]\n",
    "pattern = r\"(?<!good )cookie\"\n",
    "\n",
    "bad_cookie_count = len(re.findall(pattern, \", \".join(lst)))\n",
    "print(bad_cookie_count)\n"
   ]
  },
  {
   "cell_type": "markdown",
   "id": "bba4f605-fb21-4839-b30d-31b165760cd8",
   "metadata": {},
   "source": [
    "### 5.. Given a list of words in the singular form, return a set of those words in the plural form if they appear more than once in the list.\n",
    "\n",
    "Examples:\n",
    "\n",
    "`pluralize([\"cow\", \"pig\", \"cow\", \"cow\"]) ➞ { \"cows\", \"pig\" }`\n",
    "\n",
    "`pluralize([\"table\", \"table\", \"table\"]) ➞ { \"tables\" }`\n",
    "\n",
    "`pluralize([\"chair\", \"pencil\", \"arm\"]) ➞ { \"chair\", \"pencil\", \"arm\" }`"
   ]
  },
  {
   "cell_type": "code",
   "execution_count": 25,
   "id": "9c7dc0e2-ea28-4e3a-a48b-6ed427790c05",
   "metadata": {},
   "outputs": [],
   "source": [
    "def pluralize(words):\n",
    "    count = {}\n",
    "    plural_words = set()\n",
    "    \n",
    "    for word in words:\n",
    "        count[word] = count.get(word, 0) + 1\n",
    "    \n",
    "    for word, frequency in count.items():\n",
    "        if frequency > 1:\n",
    "            plural_words.add(word + \"s\")\n",
    "        else:\n",
    "            plural_words.add(word)\n",
    "    \n",
    "    return plural_words\n"
   ]
  },
  {
   "cell_type": "code",
   "execution_count": 26,
   "id": "6649606e-3d26-4bcd-b798-e231809a9810",
   "metadata": {},
   "outputs": [
    {
     "name": "stdout",
     "output_type": "stream",
     "text": [
      "{'pig', 'cows'}\n",
      "{'tables'}\n",
      "{'pencil', 'arm', 'chair'}\n"
     ]
    }
   ],
   "source": [
    "print(pluralize([\"cow\", \"pig\", \"cow\", \"cow\"]))  \n",
    "print(pluralize([\"table\", \"table\", \"table\"]))  \n",
    "print(pluralize([\"chair\", \"pencil\", \"arm\"]))  \n"
   ]
  },
  {
   "cell_type": "code",
   "execution_count": null,
   "id": "4e366b69-c518-4277-926f-6375688ee377",
   "metadata": {},
   "outputs": [],
   "source": []
  }
 ],
 "metadata": {
  "kernelspec": {
   "display_name": "Python 3 (ipykernel)",
   "language": "python",
   "name": "python3"
  },
  "language_info": {
   "codemirror_mode": {
    "name": "ipython",
    "version": 3
   },
   "file_extension": ".py",
   "mimetype": "text/x-python",
   "name": "python",
   "nbconvert_exporter": "python",
   "pygments_lexer": "ipython3",
   "version": "3.10.6"
  }
 },
 "nbformat": 4,
 "nbformat_minor": 5
}
