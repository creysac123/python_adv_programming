{
 "cells": [
  {
   "cell_type": "markdown",
   "id": "c39e8635-236c-41e9-a074-2962841868ea",
   "metadata": {},
   "source": [
    "### 1. Given a sentence as txt, return True if any two adjacent words have this property: One word ends with a vowel, while the word immediately after begins with a vowel (a e i o u).\n",
    "\n",
    "Examples\n",
    "\n",
    "vowel_links(&quot;a very large appliance&quot;) ➞ True\n",
    "\n",
    "vowel_links(&quot;go to edabit&quot;) ➞ True\n",
    "\n",
    "vowel_links(&quot;an open fire&quot;) ➞ False\n",
    "\n",
    "vowel_links(&quot;a sudden applause&quot;) ➞ False"
   ]
  },
  {
   "cell_type": "code",
   "execution_count": 1,
   "id": "3af1d115-d3c7-4481-be91-e3d39be039e4",
   "metadata": {},
   "outputs": [],
   "source": [
    "def vowel_links(txt):\n",
    "    words = txt.split()\n",
    "    for i in range(len(words) - 1):\n",
    "        if words[i].lower().endswith(('a', 'e', 'i', 'o', 'u')) and words[i + 1].lower().startswith(('a', 'e', 'i', 'o', 'u')):\n",
    "            return True\n",
    "    return False\n"
   ]
  },
  {
   "cell_type": "code",
   "execution_count": 2,
   "id": "9685a0f4-d9db-4977-a6e5-d1ff114ea684",
   "metadata": {},
   "outputs": [
    {
     "name": "stdout",
     "output_type": "stream",
     "text": [
      "True\n",
      "True\n",
      "False\n",
      "False\n"
     ]
    }
   ],
   "source": [
    "print(vowel_links(\"a very large appliance\")) \n",
    "print(vowel_links(\"go to edabit\"))  \n",
    "print(vowel_links(\"an open fire\")) \n",
    "print(vowel_links(\"a sudden applause\")) \n"
   ]
  },
  {
   "cell_type": "markdown",
   "id": "90b50c11-ed07-4574-a169-6a022c5cbff9",
   "metadata": {},
   "source": [
    "### 2. You are given three inputs: a string, one letter, and a second letter. Write a function that returns True if every instance of the first letter occurs before every instance of the second letter.\n",
    "\n",
    "Examples\n",
    "\n",
    "first_before_second(&quot;a rabbit jumps joyfully&quot;, &quot;a&quot;, &quot;j&quot;) ➞ True\n",
    "\n",
    "Every instance of &quot;a&quot; occurs before every instance of &quot;j&quot;.\n",
    "\n",
    "first_before_second(&quot;knaves knew about waterfalls&quot;, &quot;k&quot;, &quot;w&quot;) ➞ True\n",
    "\n",
    "first_before_second(&quot;happy birthday&quot;, &quot;a&quot;, &quot;y&quot;) ➞ False\n",
    "\n",
    "The &quot;a&quot; in &quot;birthday&quot; occurs after the &quot;y&quot; in &quot;happy&quot;.\n",
    "\n",
    "first_before_second(&quot;precarious kangaroos&quot;, &quot;k&quot;, &quot;a&quot;) ➞ False"
   ]
  },
  {
   "cell_type": "code",
   "execution_count": 7,
   "id": "d2ae6a0f-0508-4582-a703-d9fa08ceff3b",
   "metadata": {},
   "outputs": [],
   "source": [
    "def first_before_second(txt, first, second):\n",
    "    first_indices = [i for i, char in enumerate(txt) if char == first]\n",
    "    second_indices = [i for i, char in enumerate(txt) if char == second]\n",
    "\n",
    "    if len(first_indices) == 0 or len(second_indices) == 0:\n",
    "        return True\n",
    "\n",
    "    return max(first_indices) < min(second_indices)\n"
   ]
  },
  {
   "cell_type": "code",
   "execution_count": 8,
   "id": "48afde66-6c29-4b2d-b6d4-4c4362cd5b61",
   "metadata": {},
   "outputs": [
    {
     "name": "stdout",
     "output_type": "stream",
     "text": [
      "True\n",
      "True\n",
      "False\n",
      "False\n"
     ]
    }
   ],
   "source": [
    "print(first_before_second(\"a rabbit jumps joyfully\", \"a\", \"j\")) \n",
    "print(first_before_second(\"knaves knew about waterfalls\", \"k\", \"w\"))  \n",
    "print(first_before_second(\"happy birthday\", \"a\", \"y\"))  \n",
    "print(first_before_second(\"precarious kangaroos\", \"k\", \"a\"))  \n"
   ]
  },
  {
   "cell_type": "markdown",
   "id": "6bd0269b-238f-403c-aa58-0d6db05f147b",
   "metadata": {},
   "source": [
    "### 3. Create a function that returns the characters from a list or string r on odd or even positions, depending on the specifier s. The specifier will be &quot;odd&quot; for items on odd positions (1, 3, 5, ...) and &quot;even&quot; for items on even positions (2,4, 6, ...).\n",
    "\n",
    "Examples\n",
    "\n",
    "char_at_pos([2, 4, 6, 8, 10], &quot;even&quot;) ➞ [4, 8]\n",
    "\n",
    "4 &amp; 8 occupy the 2nd &amp; 4th positions\n",
    "\n",
    "char_at_pos(&quot;EDABIT&quot;, &quot;odd&quot;) ➞ &quot;EAI&quot;\n",
    "\n",
    "&quot;E&quot;, &quot;A&quot; and &quot;I&quot; occupy the 1st, 3rd and 5th positions\n",
    "\n",
    "char_at_pos([&quot;A&quot;, &quot;R&quot;, &quot;B&quot;, &quot;I&quot;, &quot;T&quot;, &quot;R&quot;, &quot;A&quot;, &quot;R&quot;, \n",
    "&quot;I&quot;, &quot;L&quot;, &quot;Y&quot;], &quot;odd&quot;) ➞ [&quot;A&quot;,\n",
    "&quot;B&quot;, &quot;T&quot;, &quot;A&quot;, &quot;I&quot;, &quot;Y&quot;]"
   ]
  },
  {
   "cell_type": "code",
   "execution_count": 9,
   "id": "c4d8beb8-c53c-47d0-890c-28390fb890a1",
   "metadata": {},
   "outputs": [],
   "source": [
    "def char_at_pos(r, s):\n",
    "    if s == \"even\":\n",
    "        return r[1::2]  # Retrieve characters at even indices\n",
    "    elif s == \"odd\":\n",
    "        return r[::2]  # Retrieve characters at odd indices\n",
    "    else:\n",
    "        return None  # Handle invalid specifier\n"
   ]
  },
  {
   "cell_type": "code",
   "execution_count": 10,
   "id": "a2610def-12a2-47a2-a7c8-340a58ac29e9",
   "metadata": {},
   "outputs": [
    {
     "name": "stdout",
     "output_type": "stream",
     "text": [
      "[4, 8]\n",
      "EAI\n",
      "['A', 'B', 'T', 'A', 'I', 'Y']\n"
     ]
    }
   ],
   "source": [
    "print(char_at_pos([2, 4, 6, 8, 10], \"even\"))  # Output: [4, 8]\n",
    "print(char_at_pos(\"EDABIT\", \"odd\"))  # Output: \"EAI\"\n",
    "print(char_at_pos([\"A\", \"R\", \"B\", \"I\", \"T\", \"R\", \"A\", \"R\", \"I\", \"L\", \"Y\"], \"odd\"))  # Output: [\"A\", \"B\", \"T\", \"A\", \"I\", \"Y\"]\n"
   ]
  },
  {
   "cell_type": "markdown",
   "id": "18fff30e-a7d3-4691-9212-6da240a2b1e6",
   "metadata": {},
   "source": [
    "### 4. Write a function that returns the greatest common divisor of all list elements. If the greatest common divisor is 1, return 1.\n",
    "Examples\n",
    "\n",
    "GCD([10, 20, 40]) ➞ 10\n",
    "\n",
    "GCD([1, 2, 3, 100]) ➞ 1\n",
    "\n",
    "GCD([1024, 192, 2048, 512]) ➞ 64"
   ]
  },
  {
   "cell_type": "code",
   "execution_count": 11,
   "id": "be629d52-3a03-4152-a4c1-c7574ec101d4",
   "metadata": {},
   "outputs": [],
   "source": [
    "def GCD(lst):\n",
    "    def gcd(a, b):\n",
    "        while b != 0:\n",
    "            a, b = b, a % b\n",
    "        return a\n",
    "\n",
    "    gcd_result = lst[0]  # Initialize gcd_result with the first element\n",
    "\n",
    "    for num in lst[1:]:\n",
    "        gcd_result = gcd(gcd_result, num)\n",
    "\n",
    "    return gcd_result\n"
   ]
  },
  {
   "cell_type": "code",
   "execution_count": 12,
   "id": "ddb558b9-6d80-4a65-942b-4fa25021dc47",
   "metadata": {},
   "outputs": [
    {
     "name": "stdout",
     "output_type": "stream",
     "text": [
      "10\n",
      "1\n",
      "64\n"
     ]
    }
   ],
   "source": [
    "print(GCD([10, 20, 40]))  \n",
    "print(GCD([1, 2, 3, 100]))  \n",
    "print(GCD([1024, 192, 2048, 512]))  \n"
   ]
  },
  {
   "cell_type": "markdown",
   "id": "556cbf99-24f8-4fdf-a8f6-fe319bc7d7f1",
   "metadata": {},
   "source": [
    "### 5. A number/string is a palindrome if the digits/characters are the same when read both forward and backward. Examples include \"racecar\" and 12321. Given a positive number n, check if n or the binary representation of n is palindromic. Return the following:\n",
    "\n",
    "\"Decimal only.\" if only n is a palindrome.\n",
    "\n",
    "\"Binary only.\" if only the binary representation of n is a palindrome.\n",
    "\n",
    "\"Decimal and binary.\" if both are palindromes.\n",
    "\n",
    "\"Neither!\" if neither are palindromes.\n",
    "\n",
    "Examples:\n",
    "\n",
    "palindrome_type(1306031) ➞ \"Decimal only.\"\n",
    "\n",
    "decimal = 1306031\n",
    "\n",
    "binary = \"100111110110110101111\"\n",
    "\n",
    "palindrome_type(427787) ➞ \"Binary only.\"\n",
    "\n",
    "decimal = 427787\n",
    "\n",
    "binary = \"1101000011100001011\"\n",
    "\n",
    "palindrome_type(313) ➞ \"Decimal and binary.\"\n",
    "\n",
    "decimal = 313\n",
    "\n",
    "binary = 100111001\n",
    "\n",
    "palindrome_type(934) ➞ \"Neither!\"\n",
    "\n",
    "decimal = 934\n",
    "\n",
    "binary = \"1110100110\""
   ]
  },
  {
   "cell_type": "code",
   "execution_count": 13,
   "id": "572c25b6-f0df-4466-bb00-b4b11c6cf1cd",
   "metadata": {},
   "outputs": [
    {
     "name": "stdout",
     "output_type": "stream",
     "text": [
      "Decimal only.\n",
      "Binary only.\n",
      "Decimal and binary.\n",
      "Neither!\n"
     ]
    }
   ],
   "source": [
    "def palindrome_type(n):\n",
    "    def is_palindrome(string):\n",
    "        return string == string[::-1]\n",
    "\n",
    "    decimal_palindrome = is_palindrome(str(n))\n",
    "    binary_palindrome = is_palindrome(bin(n)[2:])  # Convert decimal to binary and remove '0b' prefix\n",
    "\n",
    "    if decimal_palindrome and binary_palindrome:\n",
    "        return \"Decimal and binary.\"\n",
    "    elif decimal_palindrome:\n",
    "        return \"Decimal only.\"\n",
    "    elif binary_palindrome:\n",
    "        return \"Binary only.\"\n",
    "    else:\n",
    "        return \"Neither!\"\n",
    "\n",
    "print(palindrome_type(1306031)) \n",
    "print(palindrome_type(427787)) \n",
    "print(palindrome_type(313)) \n",
    "print(palindrome_type(934)) \n"
   ]
  },
  {
   "cell_type": "code",
   "execution_count": null,
   "id": "bca972fa-5e12-456a-92f2-16b91ed92786",
   "metadata": {},
   "outputs": [],
   "source": []
  }
 ],
 "metadata": {
  "kernelspec": {
   "display_name": "Python 3 (ipykernel)",
   "language": "python",
   "name": "python3"
  },
  "language_info": {
   "codemirror_mode": {
    "name": "ipython",
    "version": 3
   },
   "file_extension": ".py",
   "mimetype": "text/x-python",
   "name": "python",
   "nbconvert_exporter": "python",
   "pygments_lexer": "ipython3",
   "version": "3.10.6"
  }
 },
 "nbformat": 4,
 "nbformat_minor": 5
}
