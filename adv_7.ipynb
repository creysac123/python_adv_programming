{
 "cells": [
  {
   "cell_type": "markdown",
   "id": "d7bcb409-1d6a-40ee-9b7f-28f6c9625f7a",
   "metadata": {},
   "source": [
    "### 1. Write a function that counts how many concentric layers a rug.\n",
    "\n",
    "Examples:\n",
    "\n",
    "count_layers(\n",
    "[\"AAAA\",\n",
    "\"ABBA\",\n",
    "\"AAAA\"]) ➞ 2\n",
    "\n",
    "count_layers(\n",
    "[\"AAAAAAAAA\",\n",
    "\"ABBBBBBBA\",\n",
    "\"ABBAAABBA\",\n",
    "\"ABBBBBBBA\",\n",
    "\"AAAAAAAAA\"]) ➞ 3\n",
    "\n",
    "count_layers(\n",
    "[\"AAAAAAAAAAA\",\n",
    "AABBBBBBBAA\",\n",
    "AABCCCCCBAA\",\n",
    "AABCAAACBAA\",\n",
    "\"AABCADACBAA\",\n",
    "AABCAAACBAA\",\n",
    "\"AABCCCCCBAA\",\n",
    "\"AABBBBBBBAA\",\n",
    "\"AAAAAAAAAAA\"]) ➞ 5"
   ]
  },
  {
   "cell_type": "code",
   "execution_count": 3,
   "id": "c3c02543-c2a7-4922-8f7a-32f35a0e1e3f",
   "metadata": {},
   "outputs": [],
   "source": [
    "def count_layers(rug):\n",
    "    count = 0\n",
    "    n = len(rug)\n",
    "\n",
    "    for i in range(n // 2):\n",
    "        if rug[i] != rug[i + 1]:\n",
    "            count += 1\n",
    "\n",
    "    return count + 1  # Add 1 for the center layer if it exists\n"
   ]
  },
  {
   "cell_type": "code",
   "execution_count": 4,
   "id": "69f0b8f2-1d8d-4570-af50-3288560db660",
   "metadata": {},
   "outputs": [
    {
     "name": "stdout",
     "output_type": "stream",
     "text": [
      "2\n",
      "3\n",
      "5\n"
     ]
    }
   ],
   "source": [
    "print(count_layers([\"AAAA\",\"ABBA\",\"AAAA\"]))  # Output: 2\n",
    "print(count_layers([\"AAAAAAAAA\",\"ABBBBBBBA\",\"ABBAAABBA\",\"ABBBBBBBA\",\"AAAAAAAAA\"]))  # Output: 3\n",
    "print(count_layers([\"AAAAAAAAAAA\",\"AABBBBBBBAA\",\"AABCCCCCBAA\",\"AABCAAACBAA\",\"AABCADACBAA\",\"AABCAAACBAA\",\"AABCCCCCBAA\",\"AABBBBBBBAA\",\"AAAAAAAAAAA\"]))  # Output: 5\n"
   ]
  },
  {
   "cell_type": "markdown",
   "id": "38571ae5-ce1d-49c2-a583-752b5403a46e",
   "metadata": {},
   "source": [
    "### 2. There are many different styles of music and many albums exhibit multiple styles. Create a function that takes a list of musical styles from albums and returns how many styles are unique.\n",
    "\n",
    "Examples:\n",
    "\n",
    "unique_styles([ \"Dub,Dancehall\", \"Industrial,Heavy Metal\", \"Techno,Dubstep\", \"Synth-pop,Euro-Disco\", \"Industrial,Techno,Minimal\" ]) ➞ 9\n",
    "\n",
    "unique_styles([ \"Soul\", \"House,Folk\", \"Trance,Downtempo,Big Beat,House\", \"Deep House\", \"Soul\" ]) ➞ 7"
   ]
  },
  {
   "cell_type": "code",
   "execution_count": 2,
   "id": "ec5b5967-3063-4dde-a9bd-80de43d54a96",
   "metadata": {},
   "outputs": [],
   "source": [
    "def unique_styles(albums):\n",
    "    unique_styles = set()\n",
    "    for album in albums:\n",
    "        styles = album.split(\",\")\n",
    "        for style in styles:\n",
    "            unique_styles.add(style.strip())\n",
    "    return len(unique_styles)\n"
   ]
  },
  {
   "cell_type": "code",
   "execution_count": 3,
   "id": "be8a703c-5985-4e8a-859f-db1048537d17",
   "metadata": {},
   "outputs": [
    {
     "name": "stdout",
     "output_type": "stream",
     "text": [
      "9\n",
      "7\n"
     ]
    }
   ],
   "source": [
    "print(unique_styles([\"Dub,Dancehall\", \"Industrial,Heavy Metal\", \"Techno,Dubstep\", \"Synth-pop,Euro-Disco\", \"Industrial,Techno,Minimal\"]))\n",
    "\n",
    "print(unique_styles([\"Soul\", \"House,Folk\", \"Trance,Downtempo,Big Beat,House\", \"Deep House\", \"Soul\"]))\n"
   ]
  },
  {
   "cell_type": "markdown",
   "id": "baa17dff-8415-423e-8f20-e4b0c8dc97e8",
   "metadata": {},
   "source": [
    "### 3. Create a function that finds a target number in a list of prime numbers. Implement a binary search algorithm in your function. The target number will be from 2 through 97. If the target is prime then return \"yes\" else return \"no\".\n",
    "\n",
    "Examples:\n",
    "\n",
    "primes = [2, 3, 5, 7, 11, 13, 17, 19, 23, 29, 31, 37, 41, 43, 47, 53, 59, 61, 67, 71, 73, 79, 83, 89, 97]\n",
    "\n",
    "is_prime(primes, 3) ➞ \"yes\"\n",
    "\n",
    "is_prime(primes, 4) ➞ \"no\"\n",
    "\n",
    "is_prime(primes, 67) ➞ \"yes\"\n",
    "\n",
    "is_prime(primes, 36) ➞ \"no\""
   ]
  },
  {
   "cell_type": "code",
   "execution_count": 4,
   "id": "751e764b-68a8-4936-b063-ebf3482b73ba",
   "metadata": {},
   "outputs": [],
   "source": [
    "def is_prime(primes, target):\n",
    "    low = 0\n",
    "    high = len(primes) - 1\n",
    "\n",
    "    while low <= high:\n",
    "        mid = (low + high) // 2\n",
    "        if primes[mid] == target:\n",
    "            return \"yes\" if is_prime_number(target) else \"no\"\n",
    "        elif primes[mid] < target:\n",
    "            low = mid + 1\n",
    "        else:\n",
    "            high = mid - 1\n",
    "\n",
    "    return \"no\"\n",
    "\n",
    "\n",
    "def is_prime_number(number):\n",
    "    if number < 2:\n",
    "        return False\n",
    "\n",
    "    for i in range(2, int(number**0.5) + 1):\n",
    "        if number % i == 0:\n",
    "            return False\n",
    "\n",
    "    return True\n"
   ]
  },
  {
   "cell_type": "code",
   "execution_count": 5,
   "id": "d29de2b1-7a24-43aa-bad8-9768bc2a421f",
   "metadata": {},
   "outputs": [
    {
     "name": "stdout",
     "output_type": "stream",
     "text": [
      "yes\n",
      "no\n",
      "yes\n",
      "no\n"
     ]
    }
   ],
   "source": [
    "primes = [2, 3, 5, 7, 11, 13, 17, 19, 23, 29, 31, 37, 41, 43, 47, 53, 59, 61, 67, 71, 73, 79, 83, 89, 97]\n",
    "print(is_prime(primes, 3))  \n",
    "print(is_prime(primes, 4))  \n",
    "print(is_prime(primes, 67))  \n",
    "print(is_prime(primes, 36))  \n"
   ]
  },
  {
   "cell_type": "markdown",
   "id": "48ae2457-1484-4570-ae1f-efde36f5d1c1",
   "metadata": {},
   "source": [
    "### 4. Create a function that takes in n, a, b and returns the number of positive values raised to the nth power that lie in the range [a, b], inclusive.\n",
    "\n",
    "Examples:\n",
    "\n",
    "power_ranger(2, 49, 65) ➞ 2\n",
    "\n",
    "2 squares (n^2) lie between 49 and 65, 49 (7^2) and 64 (8^2)\n",
    "\n",
    "power_ranger(3, 1, 27) ➞ 3\n",
    "\n",
    "3 cubes (n^3) lie between 1 and 27, 1 (1^3), 8 (2^3) and 27 (3^3)\n",
    "\n",
    "power_ranger(10, 1, 5) ➞ 1\n",
    "\n",
    "1 value raised to the 10th power lies between 1 and 5, 1 (1^10)\n",
    "\n",
    "power_ranger(5, 31, 33) ➞ 1\n",
    "\n",
    "power_ranger(4, 250, 1300) ➞ 3"
   ]
  },
  {
   "cell_type": "code",
   "execution_count": 11,
   "id": "5b9795c1-02c3-487e-96bf-26016729637c",
   "metadata": {},
   "outputs": [],
   "source": [
    "def power_ranger(n, a, b):\n",
    "    count = 0\n",
    "    num = 1\n",
    "    while num ** n <= b:\n",
    "        if num ** n >= a:\n",
    "            count += 1\n",
    "        num += 1\n",
    "    return count\n"
   ]
  },
  {
   "cell_type": "code",
   "execution_count": 13,
   "id": "6b61aa18-5942-406c-91b5-232a962bba44",
   "metadata": {},
   "outputs": [
    {
     "name": "stdout",
     "output_type": "stream",
     "text": [
      "2\n",
      "3\n",
      "1\n",
      "1\n",
      "3\n"
     ]
    }
   ],
   "source": [
    "print(power_ranger(2, 49, 65)) \n",
    "print(power_ranger(3, 1, 27))  \n",
    "print(power_ranger(10, 1, 5))\n",
    "print(power_ranger(5, 31, 33)) \n",
    "print(power_ranger(4, 250, 1300))  \n"
   ]
  },
  {
   "cell_type": "markdown",
   "id": "8527f417-d6f6-490a-babd-6c981d9d4111",
   "metadata": {},
   "source": [
    "### 5. Given a number, return the difference between the maximum and minimum numbers that can be formed when the digits are rearranged.\n",
    "\n",
    "Examples\n",
    "\n",
    "rearranged_difference(972882) ➞ 760833\n",
    "\n",
    "988722 - 227889 = 760833\n",
    "\n",
    "rearranged_difference(3320707) ➞ 7709823\n",
    "\n",
    "7733200 - 23377 = 7709823\n",
    "\n",
    "rearranged_difference(90010) ➞ 90981\n",
    "\n",
    "91000 - 19 = 90981"
   ]
  },
  {
   "cell_type": "code",
   "execution_count": 14,
   "id": "181dde59-a7de-4fec-9a4a-006adf124ed8",
   "metadata": {},
   "outputs": [],
   "source": [
    "def rearranged_difference(num):\n",
    "    digits = [int(digit) for digit in str(num)]\n",
    "    digits.sort()\n",
    "    min_num = int(''.join(map(str, digits)))\n",
    "    max_num = int(''.join(map(str, digits[::-1])))\n",
    "    return max_num - min_num\n"
   ]
  },
  {
   "cell_type": "code",
   "execution_count": 15,
   "id": "6bf3de38-1cc1-40cd-bda7-1667989e9eb7",
   "metadata": {},
   "outputs": [
    {
     "name": "stdout",
     "output_type": "stream",
     "text": [
      "760833\n",
      "7709823\n",
      "90981\n"
     ]
    }
   ],
   "source": [
    "print(rearranged_difference(972882))  \n",
    "print(rearranged_difference(3320707))  \n",
    "print(rearranged_difference(90010))  \n"
   ]
  },
  {
   "cell_type": "code",
   "execution_count": null,
   "id": "80f9c977-6489-454c-a254-37cb1b33e20d",
   "metadata": {},
   "outputs": [],
   "source": []
  }
 ],
 "metadata": {
  "kernelspec": {
   "display_name": "Python 3 (ipykernel)",
   "language": "python",
   "name": "python3"
  },
  "language_info": {
   "codemirror_mode": {
    "name": "ipython",
    "version": 3
   },
   "file_extension": ".py",
   "mimetype": "text/x-python",
   "name": "python",
   "nbconvert_exporter": "python",
   "pygments_lexer": "ipython3",
   "version": "3.10.6"
  }
 },
 "nbformat": 4,
 "nbformat_minor": 5
}
