{
 "cells": [
  {
   "cell_type": "markdown",
   "id": "c487e45a-a53b-4ce9-915e-d3575f6bcdd1",
   "metadata": {},
   "source": [
    "### 1. Create a function that takes a list and returns a new list containing only prime numbers.\n",
    "\n",
    "Examples\n",
    "\n",
    "filter_primes([7, 9, 3, 9, 10, 11, 27]) ➞ [7, 3, 11]\n",
    "\n",
    "filter_primes([10007, 1009, 1007, 27, 147, 77, 1001, 70]) ➞ [10007, 1009]\n",
    "\n",
    "filter_primes([1009, 10, 10, 10, 3, 33, 9, 4, 1, 61, 63, 69, 1087, 1091, 1093,\n",
    "1097]) ➞ [1009, 3, 61, 1087, 1091, 1093, 1097]"
   ]
  },
  {
   "cell_type": "code",
   "execution_count": 1,
   "id": "6f3f858f-4d1f-454f-bff9-9434f1fa320a",
   "metadata": {},
   "outputs": [
    {
     "name": "stdout",
     "output_type": "stream",
     "text": [
      "[7, 3, 11]\n",
      "[10007, 1009]\n",
      "[1009, 3, 61, 1087, 1091, 1093, 1097]\n"
     ]
    }
   ],
   "source": [
    "def filter_primes(lst):\n",
    "    def is_prime(n):\n",
    "        if n < 2:\n",
    "            return False\n",
    "        for i in range(2, int(n**0.5) + 1):\n",
    "            if n % i == 0:\n",
    "                return False\n",
    "        return True\n",
    "\n",
    "    return [num for num in lst if is_prime(num)]\n",
    "\n",
    "print(filter_primes([7, 9, 3, 9, 10, 11, 27]))  \n",
    "print(filter_primes([10007, 1009, 1007, 27, 147, 77, 1001, 70]))  \n",
    "print(filter_primes([1009, 10, 10, 10, 3, 33, 9, 4, 1, 61, 63, 69, 1087, 1091, 1093, 1097]))  \n"
   ]
  },
  {
   "cell_type": "markdown",
   "id": "f86c68a1-7614-4524-80cb-54bd23b89ef8",
   "metadata": {},
   "source": [
    "### 2. Once a water balloon pops, is soaks the area around it. The ground gets drier the further away you travel from the balloon. The effect of a water balloon popping can be modeled using a list. Create a function that takes a list which takes the pre-pop state and returns the state after the balloon is popped. The pre-pop state will contain at most a single balloon, whose size is represented by the only non-zero element.\n",
    "\n",
    "Examples\n",
    "\n",
    "pop([0, 0, 0, 0, 4, 0, 0, 0, 0]) ➞ [0, 1, 2, 3, 4, 3, 2, 1, 0]\n",
    "\n",
    "pop([0, 0, 0, 3, 0, 0, 0]) ➞ [0, 1, 2, 3, 2, 1, 0]\n",
    "\n",
    "pop([0, 0, 2, 0, 0]) ➞ [0, 1, 2, 1, 0]\n",
    "\n",
    "pop([0]) ➞ [0]"
   ]
  },
  {
   "cell_type": "code",
   "execution_count": 3,
   "id": "f5348d0a-41f8-4ca9-b058-53ea4f8c3d95",
   "metadata": {},
   "outputs": [],
   "source": [
    "def pop(state):\n",
    "    if not state:\n",
    "        return []\n",
    "    \n",
    "    size = max(state)\n",
    "    new_state = list(range(size + 1)) + list(range(size - 1, -1, -1))\n",
    "    \n",
    "    return [size if i == state.index(size) else new_state[i] for i in range(len(new_state))]\n"
   ]
  },
  {
   "cell_type": "code",
   "execution_count": 5,
   "id": "b4a0f57c-2227-4168-b815-6da3589bca96",
   "metadata": {},
   "outputs": [
    {
     "name": "stdout",
     "output_type": "stream",
     "text": [
      "[0, 1, 2, 3, 4, 3, 2, 1, 0]\n",
      "[0, 1, 2, 3, 2, 1, 0]\n",
      "[0, 1, 2, 1, 0]\n",
      "[0]\n"
     ]
    }
   ],
   "source": [
    "print(pop([0, 0, 0, 0, 4, 0, 0, 0, 0]))  \n",
    "print(pop([0, 0, 0, 3, 0, 0, 0])) \n",
    "print(pop([0, 0, 2, 0, 0]))  \n",
    "print(pop([0]))  "
   ]
  },
  {
   "cell_type": "markdown",
   "id": "979d13c3-c390-4add-9bc9-ec914808fe32",
   "metadata": {},
   "source": [
    "### 3. &quot;Loves me, loves me not&quot; is a traditional game in which a person plucks off all the petals of a flower one by one, saying the phrase &quot;Loves me&quot; and &quot;Loves me not&quot; when determining whether the one that they love, loves them back.\n",
    "Given a number of petals, return a string which repeats the phrases &quot;Loves\n",
    "me&quot; and &quot;Loves me not&quot; for every alternating petal, and return the last phrase\n",
    "in all caps. Remember to put a comma and space between phrases.\n",
    "\n",
    "Examples\n",
    "\n",
    "loves_me(3) ➞ &quot;Loves me, Loves me not, LOVES ME&quot;\n",
    "\n",
    "loves_me(6) ➞ &quot;Loves me, Loves me not, Loves me, Loves me not, Loves\n",
    "me, LOVES ME NOT&quot;\n",
    "\n",
    "loves_me(1) ➞ &quot;LOVES ME&quot;"
   ]
  },
  {
   "cell_type": "code",
   "execution_count": 6,
   "id": "3993813f-a8e6-4aa6-a092-4b4bb311f7e5",
   "metadata": {},
   "outputs": [
    {
     "name": "stdout",
     "output_type": "stream",
     "text": [
      "Loves me, Loves me not, LOVES ME\n",
      "Loves me, Loves me not, Loves me, Loves me not, Loves me, LOVES ME NOT\n",
      "LOVES ME\n"
     ]
    }
   ],
   "source": [
    "def loves_me(petals):\n",
    "    phrases = [\"Loves me\" if i % 2 == 0 else \"Loves me not\" for i in range(petals)]\n",
    "    phrases[-1] = phrases[-1].upper()\n",
    "    return \", \".join(phrases)\n",
    "\n",
    "print(loves_me(3))  \n",
    "print(loves_me(6)) \n",
    "print(loves_me(1)) \n"
   ]
  },
  {
   "cell_type": "markdown",
   "id": "6e193412-9567-46ba-b7a1-a6297b919d0b",
   "metadata": {},
   "source": [
    "### 4. Write a function that sorts each string in a list by the letter in alphabetic ascending order (a-z).\n",
    "\n",
    "Examples\n",
    "\n",
    "sort_by_letter([&quot;932c&quot;, &quot;832u32&quot;, &quot;2344b&quot;])\n",
    "➞ [&quot;2344b&quot;, &quot;932c&quot;, &quot;832u32&quot;]\n",
    "\n",
    "sort_by_letter([&quot;99a&quot;, &quot;78b&quot;, &quot;c2345&quot;, &quot;11d&quot;])\n",
    "➞ [&quot;99a&quot;, &quot;78b&quot;, &quot;c2345&quot;, &quot;11d&quot;]\n",
    "\n",
    "sort_by_letter([&quot;572z&quot;, &quot;5y5&quot;, &quot;304q2&quot;])\n",
    "➞ [&quot;304q2&quot;, &quot;5y5&quot;, &quot;572z&quot;]\n",
    "\n",
    "sort_by_letter([])\n",
    "➞ []"
   ]
  },
  {
   "cell_type": "code",
   "execution_count": 7,
   "id": "53dbddad-5655-49ce-aeed-d76f5045c80a",
   "metadata": {},
   "outputs": [
    {
     "name": "stdout",
     "output_type": "stream",
     "text": [
      "['2344b', '932c', '832u32']\n",
      "['99a', '78b', 'c2345', '11d']\n",
      "['304q2', '5y5', '572z']\n",
      "[]\n"
     ]
    }
   ],
   "source": [
    "def sort_by_letter(lst):\n",
    "    return sorted(lst, key=lambda x: [c for c in x if c.isalpha()])\n",
    "\n",
    "print(sort_by_letter([\"932c\", \"832u32\", \"2344b\"])) \n",
    "print(sort_by_letter([\"99a\", \"78b\", \"c2345\", \"11d\"]))  \n",
    "print(sort_by_letter([\"572z\", \"5y5\", \"304q2\"])) \n",
    "print(sort_by_letter([]))  \n"
   ]
  },
  {
   "cell_type": "markdown",
   "id": "3aedc6ea-ffa0-4797-b842-ee0f4a901a6e",
   "metadata": {},
   "source": [
    "### 5. There are three cups on a table, at positions A, B, and C. At the start, there is a ball hidden under the cup at position B.\n",
    "\n",
    "However, I perform several swaps on the cups, which is notated as two\n",
    "letters. For example, if I swap the cups at positions A and B, I could notate\n",
    "this as AB or BA.\n",
    "Create a function that returns the letter position that the ball is at, once I finish\n",
    "swapping the cups. The swaps will be given to you as a list.\n",
    "\n",
    "Example\n",
    "\n",
    "cup_swapping([&quot;AB&quot;, &quot;CA&quot;, &quot;AB&quot;]) ➞ &quot;C&quot;\n",
    "\n",
    "Ball begins at position B.\n",
    "\n",
    "Cups A and B swap, so the ball is at position A.\n",
    "\n",
    "Cups C and A swap, so the ball is at position C.\n",
    "\n",
    "Cups A and B swap, but the ball is at position C, so it doesn&#39;t move.3"
   ]
  },
  {
   "cell_type": "code",
   "execution_count": 8,
   "id": "e9294323-710a-4ad7-bb95-db0eb47cc232",
   "metadata": {},
   "outputs": [
    {
     "name": "stdout",
     "output_type": "stream",
     "text": [
      "C\n"
     ]
    }
   ],
   "source": [
    "def cup_swapping(swaps):\n",
    "    ball_position = \"B\"\n",
    "\n",
    "    for swap in swaps:\n",
    "        if ball_position in swap:\n",
    "            ball_position = swap.replace(ball_position, \"\")\n",
    "\n",
    "    return ball_position\n",
    "\n",
    "print(cup_swapping([\"AB\", \"CA\", \"AB\"]))  \n"
   ]
  },
  {
   "cell_type": "code",
   "execution_count": 9,
   "id": "b6fe8a61-71af-479a-9343-154e79532381",
   "metadata": {},
   "outputs": [
    {
     "name": "stdout",
     "output_type": "stream",
     "text": [
      "A\n"
     ]
    }
   ],
   "source": [
    "print(cup_swapping([\"AB\", \"CA\", \"AB\",\"CB\", \"AB\"]))"
   ]
  },
  {
   "cell_type": "code",
   "execution_count": null,
   "id": "01174aa0-2859-4a4a-a76a-8d49e34e0a71",
   "metadata": {},
   "outputs": [],
   "source": []
  }
 ],
 "metadata": {
  "kernelspec": {
   "display_name": "Python 3 (ipykernel)",
   "language": "python",
   "name": "python3"
  },
  "language_info": {
   "codemirror_mode": {
    "name": "ipython",
    "version": 3
   },
   "file_extension": ".py",
   "mimetype": "text/x-python",
   "name": "python",
   "nbconvert_exporter": "python",
   "pygments_lexer": "ipython3",
   "version": "3.10.6"
  }
 },
 "nbformat": 4,
 "nbformat_minor": 5
}
