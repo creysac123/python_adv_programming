{
 "cells": [
  {
   "cell_type": "markdown",
   "id": "625ceecc-5948-4d6e-b343-fcee8805a044",
   "metadata": {},
   "source": [
    "### 1. Create a function that takes a number n (integer greater than zero) as an argument, and returns 2 if n is odd and 8 if n is even.\n",
    "\n",
    "You can only use the following arithmetic operators: addition of numbers +,\n",
    "subtraction of numbers -, multiplication of number *, division of number /, and\n",
    "exponentiation **.\n",
    "\n",
    "You are not allowed to use any other methods in this challenge (i.e. no if\n",
    "statements, comparison operators, etc).\n",
    "\n",
    "Examples\n",
    "\n",
    "f(1) ➞ 2\n",
    "\n",
    "f(2) ➞ 8\n",
    "\n",
    "f(3) ➞ 2"
   ]
  },
  {
   "cell_type": "code",
   "execution_count": 9,
   "id": "6a35b897-1936-4b6b-a05e-1550ee9e4bc2",
   "metadata": {},
   "outputs": [
    {
     "name": "stdout",
     "output_type": "stream",
     "text": [
      "2\n",
      "8\n",
      "2\n"
     ]
    }
   ],
   "source": [
    "def f(n):\n",
    "    return 8 - (n % 2) * 6\n",
    "\n",
    "\n",
    "print(f(1))  \n",
    "print(f(2))  \n",
    "print(f(3))"
   ]
  },
  {
   "cell_type": "markdown",
   "id": "58b4a9ad-5503-499a-9967-ed54340dbeba",
   "metadata": {},
   "source": [
    "### 2. Create a function that returns the majority vote in a list. A majority vote is an element that occurs &gt; N/2 times in a list (where N is the length of the list).\n",
    "\n",
    "Examples\n",
    "majority_vote([&quot;A&quot;, &quot;A&quot;, &quot;B&quot;]) ➞ &quot;A&quot;\n",
    "\n",
    "majority_vote([&quot;A&quot;, &quot;A&quot;, &quot;A&quot;, &quot;B&quot;, &quot;C&quot;, &quot;A&quot;]) ➞ &quot;A&quot;\n",
    "\n",
    "majority_vote([&quot;A&quot;, &quot;B&quot;, &quot;B&quot;, &quot;A&quot;, &quot;C&quot;, &quot;C&quot;]) ➞ None"
   ]
  },
  {
   "cell_type": "code",
   "execution_count": 12,
   "id": "52f09190-8266-4cc7-98f4-96a93ec03f3a",
   "metadata": {},
   "outputs": [
    {
     "name": "stdout",
     "output_type": "stream",
     "text": [
      "A\n",
      "A\n",
      "None\n"
     ]
    }
   ],
   "source": [
    "def majority_vote(lst):\n",
    "    counts = {}\n",
    "    for item in lst:\n",
    "        counts[item] = counts.get(item, 0) + 1\n",
    "\n",
    "    n = len(lst)\n",
    "    for item, count in counts.items():\n",
    "        if count > n / 2:\n",
    "            return item\n",
    "\n",
    "    return None\n",
    "\n",
    "# Test the function\n",
    "print(majority_vote([\"A\", \"A\", \"B\"]))  \n",
    "print(majority_vote([\"A\", \"A\", \"A\", \"B\", \"C\", \"A\"]))  \n",
    "print(majority_vote([\"A\", \"B\", \"B\", \"A\", \"C\", \"C\"]))  \n"
   ]
  },
  {
   "cell_type": "markdown",
   "id": "8d6774c9-5954-4d3e-b6a4-b2eb4bbd052a",
   "metadata": {},
   "source": [
    "### 3. Create a function that takes a string txt and censors any word from a given list lst. The text removed must be replaced by the given character char.\n",
    "\n",
    "Examples\n",
    "\n",
    "censor_string(&quot;Today is a Wednesday!&quot;, [&quot;Today&quot;, &quot;a&quot;], &quot;-&quot;) ➞ &quot;----- is -\n",
    "Wednesday!&quot;\n",
    "\n",
    "censor_string(&quot;The cow jumped over the moon.&quot;, [&quot;cow&quot;, &quot;over&quot;], &quot;*&quot;), &quot;The ***\n",
    "jumped **** the moon.&quot;)\n",
    "\n",
    "censor_string(&quot;Why did the chicken cross the road?&quot;, [&quot;Did&quot;, &quot;chicken&quot;,\n",
    "&quot;road&quot;], &quot;*&quot;) ➞ &quot;Why *** the ******* cross the ****?&quot;"
   ]
  },
  {
   "cell_type": "code",
   "execution_count": 17,
   "id": "d04cc78b-e843-4daf-aaff-5b6f0193e2f8",
   "metadata": {},
   "outputs": [
    {
     "name": "stdout",
     "output_type": "stream",
     "text": [
      "----- is - wednesday!\n",
      "the *** jumped **** the moon.\n",
      "why *** the ******* cross the road?\n"
     ]
    }
   ],
   "source": [
    "def censor_string(txt, lst, char):\n",
    "    words = txt.lower().split()\n",
    "    l=[]\n",
    "    for w in lst:\n",
    "        l.append(w.lower())\n",
    "    for i in range(len(words)):\n",
    "        if words[i] in l:\n",
    "            words[i] = char * len(words[i])\n",
    "    return ' '.join(words)\n",
    "\n",
    "# Test the function\n",
    "print(censor_string(\"Today is a Wednesday!\", [\"Today\", \"a\"], \"-\"))  \n",
    "print(censor_string(\"The cow jumped over the moon.\", [\"cow\", \"over\"], \"*\")) \n",
    "print(censor_string(\"Why did the chicken cross the road?\", [\"Did\", \"chicken\", \"road\"], \"*\"))  \n"
   ]
  },
  {
   "cell_type": "markdown",
   "id": "174b3f32-59be-4fbe-9387-9a589a5930d1",
   "metadata": {},
   "source": [
    "### 4. In mathematics a Polydivisible Number (or magic number) is a number in a given number base with digits abcde... that has the following properties:\n",
    "- Its first digit a is not 0.\n",
    "- The number formed by its first two digits ab is a multiple of 2.\n",
    "- The number formed by its first three digits abc is a multiple of 3.\n",
    "- The number formed by its first four digits abcd is a multiple of 4.\n",
    "\n",
    "Create a function which takes an integer n and returns True if the given\n",
    "number is a Polydivisible Number and False otherwise.\n",
    "\n",
    "Examples\n",
    "\n",
    "is_polydivisible(1232) ➞ True\n",
    "\n",
    "- 1 / 1 = 1\n",
    "- 12 / 2 = 6\n",
    "- 123 / 3 = 41\n",
    "- 1232 / 4 = 308\n",
    "\n",
    "is_polydivisible(123220 ) ➞ False\n",
    "\n",
    "- 1 / 1 = 1\n",
    "- 12 / 2 = 6\n",
    "- 123 / 3 = 41\n",
    "- 1232 / 4 = 308\n",
    "- 12322 / 5 = 2464.4 # Not a Whole Number\n",
    "- 123220 /6 = 220536.333... # Not a Whole Number"
   ]
  },
  {
   "cell_type": "code",
   "execution_count": 19,
   "id": "866c4f85-e9f8-436c-949c-af4e469faf0a",
   "metadata": {},
   "outputs": [
    {
     "name": "stdout",
     "output_type": "stream",
     "text": [
      "True\n",
      "False\n"
     ]
    }
   ],
   "source": [
    "def is_polydivisible(n):\n",
    "    digits = str(n)\n",
    "    length = len(digits)\n",
    "\n",
    "    for i in range(1, length + 1):\n",
    "        prefix = int(digits[:i])\n",
    "        if prefix % i != 0:\n",
    "            return False\n",
    "\n",
    "    return True\n",
    "\n",
    "# Test the function\n",
    "print(is_polydivisible(1232))  \n",
    "print(is_polydivisible(123220)) \n"
   ]
  },
  {
   "cell_type": "markdown",
   "id": "82c542de-3b98-4aa5-a1f7-04c627951eea",
   "metadata": {},
   "source": [
    "### 5. Create a function that takes a list of numbers and returns the sum of all prime numbers in the list.\n",
    "\n",
    "Examples\n",
    "\n",
    "sum_primes([1, 2, 3, 4, 5, 6, 7, 8, 9, 10]) ➞ 17\n",
    "\n",
    "sum_primes([2, 3, 4, 11, 20, 50, 71]) ➞ 87\n",
    "\n",
    "sum_primes([]) ➞ None"
   ]
  },
  {
   "cell_type": "code",
   "execution_count": 20,
   "id": "452e30e0-2500-4c16-934d-432bbf997aaf",
   "metadata": {},
   "outputs": [
    {
     "name": "stdout",
     "output_type": "stream",
     "text": [
      "17\n",
      "87\n",
      "None\n"
     ]
    }
   ],
   "source": [
    "def is_prime(n):\n",
    "    if n < 2:\n",
    "        return False\n",
    "\n",
    "    for i in range(2, int(n ** 0.5) + 1):\n",
    "        if n % i == 0:\n",
    "            return False\n",
    "\n",
    "    return True\n",
    "\n",
    "\n",
    "def sum_primes(lst):\n",
    "    prime_sum = 0\n",
    "\n",
    "    for num in lst:\n",
    "        if is_prime(num):\n",
    "            prime_sum += num\n",
    "\n",
    "    if prime_sum == 0:\n",
    "        return None\n",
    "\n",
    "    return prime_sum\n",
    "\n",
    "# Test the function\n",
    "print(sum_primes([1, 2, 3, 4, 5, 6, 7, 8, 9, 10]))  \n",
    "print(sum_primes([2, 3, 4, 11, 20, 50, 71]))  \n",
    "print(sum_primes([]))  \n"
   ]
  },
  {
   "cell_type": "code",
   "execution_count": null,
   "id": "bfcb5e4e-707f-41e7-82d4-735dab057196",
   "metadata": {},
   "outputs": [],
   "source": []
  }
 ],
 "metadata": {
  "kernelspec": {
   "display_name": "Python 3 (ipykernel)",
   "language": "python",
   "name": "python3"
  },
  "language_info": {
   "codemirror_mode": {
    "name": "ipython",
    "version": 3
   },
   "file_extension": ".py",
   "mimetype": "text/x-python",
   "name": "python",
   "nbconvert_exporter": "python",
   "pygments_lexer": "ipython3",
   "version": "3.10.6"
  }
 },
 "nbformat": 4,
 "nbformat_minor": 5
}
