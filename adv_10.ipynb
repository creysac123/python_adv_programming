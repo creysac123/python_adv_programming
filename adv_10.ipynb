{
 "cells": [
  {
   "cell_type": "markdown",
   "id": "4da88c34-1f67-4e8d-ae7d-de4609c6980a",
   "metadata": {},
   "source": [
    "### 1. Create a function that takes the width, height and character and returns a picture frame as a 2D list.\n",
    "\n",
    "Examples\n",
    "\n",
    "get_frame(4, 5, &quot;#&quot;) ➞ [\n",
    "[&quot;####&quot;],\n",
    "[&quot;# #&quot;],\n",
    "[&quot;# #&quot;],\n",
    "[&quot;# #&quot;],\n",
    "[&quot;####&quot;]\n",
    "]\n",
    "\n",
    "Frame is 4 characters wide and 5 characters tall.\n",
    "\n",
    "get_frame(10, 3, &quot;*&quot;) ➞ [\n",
    "[&quot;**********&quot;],\n",
    "[&quot;* *&quot;],\n",
    "[&quot;**********&quot;]\n",
    "]\n",
    "\n",
    "Frame is 10 characters and wide and 3 characters tall.\n",
    "\n",
    "get_frame(2, 5, &quot;0&quot;) ➞ &quot;invalid&quot;\n",
    "\n",
    "Frame&#39;s width is not more than 2."
   ]
  },
  {
   "cell_type": "code",
   "execution_count": 27,
   "id": "8990eb07-cf94-448f-8866-eef453d99cdf",
   "metadata": {},
   "outputs": [
    {
     "name": "stdout",
     "output_type": "stream",
     "text": [
      "['####']\n",
      "['#  #']\n",
      "['#  #']\n",
      "['#  #']\n",
      "['####']\n",
      "['**********']\n",
      "['*        *']\n",
      "['**********']\n",
      "invalid\n"
     ]
    }
   ],
   "source": [
    "def get_frame(width, height, char):\n",
    "    if width <= 2:\n",
    "        return \"invalid\"\n",
    "    \n",
    "    frame = []\n",
    "    for i in range(height):\n",
    "        if i == 0 or i == height - 1:\n",
    "            frame.append([char * width])\n",
    "        else:\n",
    "            frame.append([char + ' ' * (width - 2) + char])\n",
    "    \n",
    "    return frame\n",
    "\n",
    "frame1 = get_frame(4, 5, \"#\")\n",
    "for row in frame1:\n",
    "    print(row)\n",
    "\n",
    "frame2 = get_frame(10, 3, \"*\")\n",
    "for row in frame2:\n",
    "    print(row)\n",
    "    \n",
    "frame3 = get_frame(2, 5, \"0\")\n",
    "print(frame3)  "
   ]
  },
  {
   "cell_type": "markdown",
   "id": "2d11788f-030f-4c7e-9fc6-aafc437364ff",
   "metadata": {},
   "source": [
    "### 2. Write three functions:\n",
    "\n",
    "1. boolean_and\n",
    "\n",
    "2. boolean_or\n",
    "\n",
    "3. boolean_xor\n",
    "\n",
    "These functions should evaluate a list of True and False values, starting from\n",
    "the leftmost element and evaluating pairwise.\n",
    "\n",
    "Examples\n",
    "\n",
    "boolean_and([True, True, False, True]) ➞ False\n",
    "\n",
    "[True, True, False, True] =&gt; [True, False, True] =&gt; [False, True] =&gt; False\n",
    "\n",
    "boolean_or([True, True, False, False]) ➞ True\n",
    "\n",
    "[True, True, False, True] =&gt; [True, False, False] =&gt; [True, False] =&gt; True\n",
    "\n",
    "boolean_xor([True, True, False, False]) ➞ False\n",
    "\n",
    "[True, True, False, False] =&gt; [False, False, False] =&gt; [False, False] =&gt;\n",
    "False"
   ]
  },
  {
   "cell_type": "code",
   "execution_count": 28,
   "id": "01bfe320-0270-4777-ad60-259e59ad469a",
   "metadata": {},
   "outputs": [
    {
     "name": "stdout",
     "output_type": "stream",
     "text": [
      "False\n",
      "True\n",
      "False\n"
     ]
    }
   ],
   "source": [
    "def boolean_and(lst):\n",
    "    result = lst[0]\n",
    "    for value in lst[1:]:\n",
    "        result = result and value\n",
    "    return result\n",
    "\n",
    "def boolean_or(lst):\n",
    "    result = lst[0]\n",
    "    for value in lst[1:]:\n",
    "        result = result or value\n",
    "    return result\n",
    "\n",
    "def boolean_xor(lst):\n",
    "    result = lst[0]\n",
    "    for value in lst[1:]:\n",
    "        result = result != value\n",
    "    return result\n",
    "\n",
    "print(boolean_and([True, True, False, True]))  \n",
    "print(boolean_or([True, True, False, False]))  \n",
    "print(boolean_xor([True, True, False, False])) \n"
   ]
  },
  {
   "cell_type": "markdown",
   "id": "5554eee3-1d35-490f-8838-f9ef26de1d9b",
   "metadata": {},
   "source": [
    "### 3. Create a function that creates a box based on dimension n.\n",
    "\n",
    "Examples\n",
    "\n",
    "make_box(5) ➞ [\n",
    "&quot;#####&quot;,\n",
    "&quot;# #&quot;,\n",
    "&quot;# #&quot;,\n",
    "&quot;# #&quot;,\n",
    "&quot;#####&quot;\n",
    "]\n",
    "\n",
    "make_box(3) ➞ [\n",
    "&quot;###&quot;,\n",
    "&quot;# #&quot;,\n",
    "&quot;###&quot;\n",
    "]\n",
    "\n",
    "make_box(2) ➞ [\n",
    "&quot;##&quot;,\n",
    "&quot;##&quot;\n",
    "]\n",
    "\n",
    "make_box(1) ➞ [\n",
    "&quot;#&quot;\n",
    "]"
   ]
  },
  {
   "cell_type": "code",
   "execution_count": 30,
   "id": "f2aaa571-4570-438f-8e62-e0db2631f6ec",
   "metadata": {},
   "outputs": [
    {
     "name": "stdout",
     "output_type": "stream",
     "text": [
      "#####\n",
      "#   #\n",
      "#   #\n",
      "#   #\n",
      "#####\n",
      "\n",
      "##\n",
      "##\n",
      "\n",
      "#\n",
      "\n"
     ]
    }
   ],
   "source": [
    "def make_box(in_dimension):\n",
    "    out_list = []\n",
    "    for ele in range(in_dimension):\n",
    "        if ele == 0 or ele == in_dimension-1:\n",
    "            out_list.append('#'*in_dimension)\n",
    "        else:\n",
    "            out_list.append('#'+' '*(in_dimension-2)+'#')\n",
    "    for ele in out_list:\n",
    "        print(ele)\n",
    "    print()\n",
    "    \n",
    "make_box(5)   \n",
    "make_box(2)\n",
    "make_box(1)"
   ]
  },
  {
   "cell_type": "markdown",
   "id": "77285441-abeb-48f6-9bfa-f91a27fec002",
   "metadata": {},
   "source": [
    "### 4. Given a common phrase, return False if any individual word in the phrase contains duplicate letters. Return True otherwise.\n",
    "\n",
    "Examples\n",
    "\n",
    "no_duplicate_letters(&quot;Fortune favours the bold.&quot;) ➞ True\n",
    "\n",
    "no_duplicate_letters(&quot;You can lead a horse to water, but you can&#39;t make him\n",
    "drink.&quot;) ➞ True\n",
    "\n",
    "no_duplicate_letters(&quot;Look before you leap.&quot;) ➞ False\n",
    "\n",
    "Duplicate letters in &quot;Look&quot; and &quot;before&quot;.\n",
    "\n",
    "no_duplicate_letters(&quot;An apple a day keeps the doctor away.&quot;) ➞ False\n",
    "\n",
    "Duplicate letters in &quot;apple&quot;, &quot;keeps&quot;, &quot;doctor&quot;, and &quot;away&quot;."
   ]
  },
  {
   "cell_type": "code",
   "execution_count": 1,
   "id": "0aa4c21c-a0c1-469a-8ea3-c3d50431ad6e",
   "metadata": {},
   "outputs": [
    {
     "name": "stdout",
     "output_type": "stream",
     "text": [
      "True\n",
      "True\n",
      "False\n",
      "False\n"
     ]
    }
   ],
   "source": [
    "def no_duplicate_letters(phrase):\n",
    "    words = phrase.split()\n",
    "    for word in words:\n",
    "        letters = set()\n",
    "        for letter in word:\n",
    "            if letter.isalpha() and letter.lower() in letters:\n",
    "                return False\n",
    "            letters.add(letter.lower())\n",
    "    return True\n",
    "\n",
    "print(no_duplicate_letters(\"Fortune favours the bold.\")) \n",
    "print(no_duplicate_letters(\"You can lead a horse to water, but you can't make him drink.\")) \n",
    "print(no_duplicate_letters(\"Look before you leap.\"))  \n",
    "print(no_duplicate_letters(\"An apple a day keeps the doctor away.\")) \n"
   ]
  },
  {
   "cell_type": "markdown",
   "id": "3f34e1e7-1ade-44bd-b2df-591f5d7cb69b",
   "metadata": {},
   "source": [
    "### 5. Write a regular expression that will match the states that voted yes to President Trump&#39;s impeachment. You must use RegEx positive lookahead.\n",
    "\n",
    "Example\n",
    "\n",
    "txt = &quot;Texas = no, California = yes, Florida = yes, Michigan = no&quot;\n",
    "\n",
    "pattern = &quot;yourregularexpressionhere&quot;\n",
    "\n",
    "re.findall(pattern, txt) ➞ [&quot;California&quot;, &quot;Florida&quot;]"
   ]
  },
  {
   "cell_type": "code",
   "execution_count": 2,
   "id": "b5fe735b-3581-4309-b986-deaf8086979e",
   "metadata": {},
   "outputs": [
    {
     "name": "stdout",
     "output_type": "stream",
     "text": [
      "['California', 'Florida']\n"
     ]
    }
   ],
   "source": [
    "import re\n",
    "\n",
    "txt = \"Texas = no, California = yes, Florida = yes, Michigan = no\"\n",
    "pattern = r\"\\b\\w+(?=\\s*=\\s*yes\\b)\"\n",
    "\n",
    "result = re.findall(pattern, txt)\n",
    "print(result)  \n"
   ]
  },
  {
   "cell_type": "code",
   "execution_count": null,
   "id": "b87effc1-3824-4c05-95a0-88aefff50732",
   "metadata": {},
   "outputs": [],
   "source": []
  }
 ],
 "metadata": {
  "kernelspec": {
   "display_name": "Python 3 (ipykernel)",
   "language": "python",
   "name": "python3"
  },
  "language_info": {
   "codemirror_mode": {
    "name": "ipython",
    "version": 3
   },
   "file_extension": ".py",
   "mimetype": "text/x-python",
   "name": "python",
   "nbconvert_exporter": "python",
   "pygments_lexer": "ipython3",
   "version": "3.10.6"
  }
 },
 "nbformat": 4,
 "nbformat_minor": 5
}
