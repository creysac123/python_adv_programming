{
 "cells": [
  {
   "cell_type": "markdown",
   "id": "c442b41b-5f97-4de7-b6f5-a18ff2d8b5e0",
   "metadata": {},
   "source": [
    "### 1. Create a function that takes a list and string. The function should remove the letters in the string from the list, and return the list.\n",
    "\n",
    "Examples\n",
    "\n",
    "remove_letters([&quot;s&quot;, &quot;t&quot;, &quot;r&quot;, &quot;i&quot;, &quot;n&quot;, &quot;g&quot;, &quot;w&quot;], &quot;string&quot;) ➞ [&quot;w&quot;]\n",
    "\n",
    "remove_letters([&quot;b&quot;, &quot;b&quot;, &quot;l&quot;, &quot;l&quot;, &quot;g&quot;, &quot;n&quot;, &quot;o&quot;, &quot;a&quot;, &quot;w&quot;], &quot;balloon&quot;) ➞ [&quot;b&quot;, &quot;g&quot;,\n",
    "&quot;w&quot;]\n",
    "\n",
    "remove_letters([&quot;d&quot;, &quot;b&quot;, &quot;t&quot;, &quot;e&quot;, &quot;a&quot;, &quot;i&quot;], &quot;edabit&quot;) ➞ []"
   ]
  },
  {
   "cell_type": "code",
   "execution_count": 3,
   "id": "8f846af0-36b5-4de8-b49e-907a64fbdc6c",
   "metadata": {},
   "outputs": [
    {
     "name": "stdout",
     "output_type": "stream",
     "text": [
      "['w']\n",
      "['b', 'g', 'w']\n",
      "[]\n"
     ]
    }
   ],
   "source": [
    "def remove_letters(lst, word):\n",
    "    for char in word:\n",
    "        if char in lst:\n",
    "            lst.remove(char)\n",
    "    return lst\n",
    "\n",
    "print(remove_letters([\"s\", \"t\", \"r\", \"i\", \"n\", \"g\", \"w\"], \"string\"))  \n",
    "print(remove_letters([\"b\", \"b\", \"l\", \"l\", \"g\", \"n\", \"o\", \"a\", \"w\"], \"balloon\")) \n",
    "print(remove_letters([\"d\", \"b\", \"t\", \"e\", \"a\", \"i\"], \"edabit\")) \n"
   ]
  },
  {
   "cell_type": "markdown",
   "id": "f7f3b753-9f46-47b0-af0a-d8f8e49042ce",
   "metadata": {},
   "source": [
    "### 2. A block sequence in three dimensions. We can write a formula for this one:\n",
    "\n",
    "Create a function that takes a number (step) as an argument and returns the\n",
    "amount of blocks in that step.\n",
    "\n",
    "Examples\n",
    "\n",
    "blocks(1) ➞ 5\n",
    "\n",
    "blocks(5) ➞ 39\n",
    "\n",
    "blocks(2) ➞ 12"
   ]
  },
  {
   "cell_type": "code",
   "execution_count": 11,
   "id": "6d1595d5-59d4-490d-95a7-b886a70918c5",
   "metadata": {},
   "outputs": [],
   "source": [
    "def blocks(l):\n",
    "    if l == 1:\n",
    "        return 5\n",
    "    else:\n",
    "        return 5 + sum(7 + i for i in range(l - 1))\n"
   ]
  },
  {
   "cell_type": "code",
   "execution_count": 13,
   "id": "e9f85245-3b29-42cb-a364-2b960d7d5535",
   "metadata": {},
   "outputs": [
    {
     "name": "stdout",
     "output_type": "stream",
     "text": [
      "5\n",
      "39\n",
      "12\n"
     ]
    }
   ],
   "source": [
    "print(blocks(1)) \n",
    "print(blocks(5))  \n",
    "print(blocks(2))"
   ]
  },
  {
   "cell_type": "markdown",
   "id": "d29d7610-9591-4382-a775-d1683a8a4eb4",
   "metadata": {},
   "source": [
    "### 3. Create a function that subtracts one positive integer from another, without using any arithmetic operators such as -, %, /, +, etc.\n",
    "\n",
    "Examples\n",
    "\n",
    "my_sub(5, 9) ➞ 4\n",
    "\n",
    "my_sub(10, 30) ➞ 20\n",
    "\n",
    "my_sub(0, 0) ➞ 0"
   ]
  },
  {
   "cell_type": "code",
   "execution_count": 15,
   "id": "f036593b-d97e-49c8-91e3-7d915f80ab08",
   "metadata": {},
   "outputs": [
    {
     "name": "stdout",
     "output_type": "stream",
     "text": [
      "4\n",
      "20\n",
      "0\n"
     ]
    }
   ],
   "source": [
    "import operator\n",
    "\n",
    "def my_sub(a, b):\n",
    "    return operator.sub(max(a, b), min(a, b))\n",
    "\n",
    "print(my_sub(5, 9))    \n",
    "print(my_sub(10, 30))  \n",
    "print(my_sub(0, 0))    \n"
   ]
  },
  {
   "cell_type": "markdown",
   "id": "aa787172-dd81-4024-89ed-d4aa98f51720",
   "metadata": {},
   "source": [
    "### 4. Create a function that takes a string containing money in dollars and pounds sterling (seperated by comma) and returns the sum of dollar bills only, as an integer.\n",
    "\n",
    "For the input string:\n",
    "\n",
    "- Each amount is prefixed by the currency symbol: $ for dollars and £ for pounds.\n",
    "- Thousands are represented by the suffix k.\n",
    "\n",
    "i.e. $4k = $4,000 and £40k = £40,000\n",
    "\n",
    "Examples\n",
    "\n",
    "add_bill(&quot;d20,p40,p60,d50&quot;) ➞ 20 + 50 = 70\n",
    "\n",
    "add_bill(&quot;p30,d20,p60,d150,p360&quot;) ➞ 20 + 150 = 170\n",
    "\n",
    "add_bill(&quot;p30,d2k,p60,d200,p360&quot;) ➞ 2 * 1000 + 200 = 2200"
   ]
  },
  {
   "cell_type": "code",
   "execution_count": 20,
   "id": "2641845a-2608-4ec1-9003-53046e184709",
   "metadata": {},
   "outputs": [
    {
     "name": "stdout",
     "output_type": "stream",
     "text": [
      "70\n",
      "170\n",
      "2200\n"
     ]
    }
   ],
   "source": [
    "def add_bill(money):\n",
    "    money_list = money.split(',')\n",
    "    total = 0\n",
    "    for m in money_list:\n",
    "        if m.startswith('d'):\n",
    "            if m.endswith('k'):\n",
    "                total += int(m[1:-1]) * 1000\n",
    "            else:\n",
    "                total += int(m[1:])\n",
    "    return total\n",
    "\n",
    "print(add_bill(\"d20,p40,p60,d50\"))             \n",
    "print(add_bill(\"p30,d20,p60,d150,p360\"))       \n",
    "print(add_bill(\"p30,d2k,p60,d200,p360\"))       \n"
   ]
  },
  {
   "cell_type": "markdown",
   "id": "5fd4f86d-9a5d-494e-9f9d-cc5fcecebab2",
   "metadata": {},
   "source": [
    "### 5. Create a function that flips a horizontal list into a vertical list, and a vertical list into a horizontal list.\n",
    "\n",
    "In other words, take an 1 x n list (1 row + n columns) and flip it into a n x 1 list\n",
    "(n rows and 1 column), and vice versa.\n",
    "\n",
    "Examples\n",
    "\n",
    "flip_list([1, 2, 3, 4]) ➞ [[1], [2], [3], [4]]\n",
    "\n",
    "Take a horizontal list and flip it vertical.\n",
    "\n",
    "flip_list([[5], [6], [9]]) ➞ [5, 6, 9]\n",
    "\n",
    "Take a vertical list and flip it horizontal.\n",
    "\n",
    "flip_list([]) ➞ []"
   ]
  },
  {
   "cell_type": "code",
   "execution_count": 21,
   "id": "55727ecd-8094-4190-9927-fae95a1426e7",
   "metadata": {},
   "outputs": [
    {
     "name": "stdout",
     "output_type": "stream",
     "text": [
      "[[1], [2], [3], [4]]\n",
      "[5, 6, 9]\n",
      "[]\n"
     ]
    }
   ],
   "source": [
    "def flip_list(lst):\n",
    "    if not lst:\n",
    "        return []\n",
    "\n",
    "    if isinstance(lst[0], int):\n",
    "        return [[x] for x in lst]  \n",
    "\n",
    "    if isinstance(lst[0], list):\n",
    "        return [x[0] for x in lst] \n",
    "    \n",
    "    \n",
    "print(flip_list([1, 2, 3, 4]))          \n",
    "print(flip_list([[5], [6], [9]]))      \n",
    "print(flip_list([]))                   \n"
   ]
  },
  {
   "cell_type": "code",
   "execution_count": null,
   "id": "0ef4a7f7-0860-44d0-8636-8a1588601273",
   "metadata": {},
   "outputs": [],
   "source": []
  }
 ],
 "metadata": {
  "kernelspec": {
   "display_name": "Python 3 (ipykernel)",
   "language": "python",
   "name": "python3"
  },
  "language_info": {
   "codemirror_mode": {
    "name": "ipython",
    "version": 3
   },
   "file_extension": ".py",
   "mimetype": "text/x-python",
   "name": "python",
   "nbconvert_exporter": "python",
   "pygments_lexer": "ipython3",
   "version": "3.10.6"
  }
 },
 "nbformat": 4,
 "nbformat_minor": 5
}
