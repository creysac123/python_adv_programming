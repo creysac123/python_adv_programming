{
 "cells": [
  {
   "cell_type": "markdown",
   "id": "21c96037-3f9d-4e46-bedb-33206b4b986e",
   "metadata": {},
   "source": [
    "### 1. YouTube offers different playback speed options for users. This allows users to increase or decrease the speed of the video content. Given the actual duration and playback speed of the video, calculate the playback duration of the video.\n",
    "\n",
    "Examples\n",
    "\n",
    "playback_duration(&quot;00:30:00&quot;, 2) ➞ &quot;00:15:00&quot;\n",
    "\n",
    "playback_duration(&quot;01:20:00&quot;, 1.5) ➞ &quot;00:53:20&quot;\n",
    "\n",
    "playback_duration(&quot;51:20:09&quot;, 0.5) ➞ &quot;102:40:18&quot;"
   ]
  },
  {
   "cell_type": "code",
   "execution_count": 3,
   "id": "2645ca55-e5b6-43e2-97fb-5151d9571193",
   "metadata": {},
   "outputs": [
    {
     "name": "stdout",
     "output_type": "stream",
     "text": [
      "00:15:00\n",
      "00:53:20\n",
      "102:40:18\n"
     ]
    }
   ],
   "source": [
    "def playback_duration(duration, speed):\n",
    "    # Split the duration into hours, minutes, and seconds\n",
    "    hours, minutes, seconds = map(int, duration.split(':'))\n",
    "\n",
    "    # Convert the duration to seconds\n",
    "    total_seconds = hours * 3600 + minutes * 60 + seconds\n",
    "\n",
    "    # Calculate the new duration by multiplying with the speed\n",
    "    new_total_seconds = int(total_seconds / speed)\n",
    "\n",
    "    # Calculate the new hours, minutes, and seconds\n",
    "    new_hours = new_total_seconds // 3600\n",
    "    new_minutes = (new_total_seconds % 3600) // 60\n",
    "    new_seconds = (new_total_seconds % 3600) % 60\n",
    "\n",
    "    # Format the new duration as \"HH:MM:SS\"\n",
    "    new_duration = f\"{new_hours:02d}:{new_minutes:02d}:{new_seconds:02d}\"\n",
    "    \n",
    "    return new_duration\n",
    "\n",
    "# Test the function with the given examples\n",
    "print(playback_duration(\"00:30:00\", 2))  # Output: \"00:15:00\"\n",
    "print(playback_duration(\"01:20:00\", 1.5))  # Output: \"00:53:20\"\n",
    "print(playback_duration(\"51:20:09\", 0.5))  # Output: \"102:40:18\"\n"
   ]
  },
  {
   "cell_type": "markdown",
   "id": "3db81f2c-2a05-43e2-9f18-1a3c8dff9b05",
   "metadata": {},
   "source": [
    "### 2. We needs your help to construct a building which will be a pile of n cubes. The cube at the bottom will have a volume of n^3, the cube above will have volume of (n-1)^3 and so on until the top which will have a volume of 1^3.\n",
    "\n",
    "Given the total volume m of the building, can you find the number of cubes n required for the building?\n",
    "\n",
    "In other words, you have to return an integer n such that: n^3 + (n-1)^3 + ... + 1^3 == m\n",
    "\n",
    "Return None if there is no such number.\n",
    "\n",
    "Examples:\n",
    "\n",
    "pile_of_cubes(1071225) ➞ 45\n",
    "\n",
    "pile_of_cubes(4183059834009) ➞ 2022\n",
    "\n",
    "pile_of_cubes(16) ➞ None"
   ]
  },
  {
   "cell_type": "code",
   "execution_count": 4,
   "id": "6632e5e6-8785-42c0-9880-a47c571255ea",
   "metadata": {},
   "outputs": [
    {
     "name": "stdout",
     "output_type": "stream",
     "text": [
      "45\n",
      "2022\n",
      "None\n"
     ]
    }
   ],
   "source": [
    "def pile_of_cubes(m):\n",
    "    n = 1\n",
    "    while True:\n",
    "        total_volume = sum([i**3 for i in range(1, n+1)])\n",
    "        if total_volume == m:\n",
    "            return n\n",
    "        elif total_volume > m:\n",
    "            return None\n",
    "        n += 1\n",
    "\n",
    "print(pile_of_cubes(1071225))\n",
    "print(pile_of_cubes(4183059834009))  \n",
    "print(pile_of_cubes(16))  \n"
   ]
  },
  {
   "cell_type": "markdown",
   "id": "60570a14-1692-4f52-aa62-31f8f46c0a7d",
   "metadata": {},
   "source": [
    "### 3. A fulcrum of a list is an integer such that all elements to the left of it and all elements to the right of it sum to the same value. Write a function that finds the fulcrum of a list.\n",
    "\n",
    "To illustrate:\n",
    "\n",
    "find_fulcrum([3, 1, 5, 2, 4, 6, -1]) ➞ 2 // Since [3, 1, 5] and [4, 6, -1] both sum to 9\n",
    "\n",
    "Examples:\n",
    "\n",
    "find_fulcrum([1, 2, 4, 9, 10, -10, -9, 3]) ➞ 4\n",
    "\n",
    "find_fulcrum([9, 1, 9]) ➞ 1\n",
    "\n",
    "find_fulcrum([7, -1, 0, -1, 1, 1, 2, 3]) ➞ 0\n",
    "\n",
    "find_fulcrum([8, 8, 8, 8]) ➞ -1"
   ]
  },
  {
   "cell_type": "code",
   "execution_count": 5,
   "id": "0183542b-cbad-4b2b-9bb7-0fe337c8b110",
   "metadata": {},
   "outputs": [
    {
     "name": "stdout",
     "output_type": "stream",
     "text": [
      "2\n",
      "4\n",
      "1\n",
      "0\n",
      "-1\n"
     ]
    }
   ],
   "source": [
    "def find_fulcrum(lst):\n",
    "    for i in range(len(lst)):\n",
    "        left_sum = sum(lst[:i])\n",
    "        right_sum = sum(lst[i+1:])\n",
    "        if left_sum == right_sum:\n",
    "            return lst[i]\n",
    "    return -1\n",
    "\n",
    "print(find_fulcrum([3, 1, 5, 2, 4, 6, -1]))  \n",
    "print(find_fulcrum([1, 2, 4, 9, 10, -10, -9, 3]))  \n",
    "print(find_fulcrum([9, 1, 9]))  \n",
    "print(find_fulcrum([7, -1, 0, -1, 1, 1, 2, 3]))  \n",
    "print(find_fulcrum([8, 8, 8, 8])) "
   ]
  },
  {
   "cell_type": "markdown",
   "id": "5b41e4a3-e3d8-4646-83f2-6a128ab7e185",
   "metadata": {},
   "source": [
    "### 4. Given a list of integers representing the color of each sock, determine how many pairs of socks with matching colors there are. For example, there are 7 socks with colors [1, 2, 1, 2, 1, 3, 2]. There is one pair of color 1 and one of color 2. There are three odd socks left, one of each color. The number of pairs is 2.\n",
    "\n",
    "Create a function that returns an integer representing the number of matching pairs of socks that are available.\n",
    "\n",
    "Examples:\n",
    "\n",
    "sock_merchant([10, 20, 20, 10, 10, 30, 50, 10, 20]) ➞ 3\n",
    "\n",
    "sock_merchant([50, 20, 30, 90, 30, 20, 50, 20, 90]) ➞ 4\n",
    "\n",
    "sock_merchant([]) ➞ 0"
   ]
  },
  {
   "cell_type": "code",
   "execution_count": 6,
   "id": "65e7d1f2-36f3-4048-9ab7-deb7a8b96e3a",
   "metadata": {},
   "outputs": [
    {
     "name": "stdout",
     "output_type": "stream",
     "text": [
      "3\n",
      "4\n",
      "0\n"
     ]
    }
   ],
   "source": [
    "def sock_merchant(socks):\n",
    "    color_counts = {}  # Dictionary to store the count of each color\n",
    "\n",
    "    # Count the occurrences of each color\n",
    "    for color in socks:\n",
    "        if color in color_counts:\n",
    "            color_counts[color] += 1\n",
    "        else:\n",
    "            color_counts[color] = 1\n",
    "\n",
    "    num_pairs = 0\n",
    "\n",
    "    # Count the number of pairs for each color\n",
    "    for count in color_counts.values():\n",
    "        num_pairs += count // 2\n",
    "\n",
    "    return num_pairs\n",
    "\n",
    "# Test the function with the given examples\n",
    "print(sock_merchant([10, 20, 20, 10, 10, 30, 50, 10, 20]))  \n",
    "print(sock_merchant([50, 20, 30, 90, 30, 20, 50, 20, 90]))  \n",
    "print(sock_merchant([])) \n"
   ]
  },
  {
   "cell_type": "markdown",
   "id": "e9f86ff2-62a6-4780-9a4e-85eec53d0bf1",
   "metadata": {},
   "source": [
    "### 5. Create a function that takes a string containing integers as well as other characters and return the sum of the negative integers only.\n",
    "\n",
    "Examples\n",
    "\n",
    "negative_sum(&quot;-12 13%14&amp;-11&quot;) ➞ -23\n",
    "\n",
    "12 + -11 = -23\n",
    "\n",
    "negative_sum(&quot;22 13%14&amp;-11-22 13 12&quot;) ➞ -33\n",
    "\n",
    "-11 + -22 = -33"
   ]
  },
  {
   "cell_type": "code",
   "execution_count": 9,
   "id": "557b216f-0242-4ffb-9378-be679bf1dacd",
   "metadata": {},
   "outputs": [
    {
     "name": "stdout",
     "output_type": "stream",
     "text": [
      "-23\n",
      "-33\n"
     ]
    }
   ],
   "source": [
    "import re\n",
    "\n",
    "def negative_sum(s):\n",
    "    negative_nums = re.findall(r'-\\d+', s)\n",
    "    return sum(map(int, negative_nums))\n",
    "\n",
    "print(negative_sum(\"-12 13%14&-11\")) \n",
    "print(negative_sum(\"22 13%14&-11-22 13 12\"))"
   ]
  },
  {
   "cell_type": "code",
   "execution_count": null,
   "id": "470fe4a1-736a-43a0-a350-3029f9e6eb3e",
   "metadata": {},
   "outputs": [],
   "source": []
  }
 ],
 "metadata": {
  "kernelspec": {
   "display_name": "Python 3 (ipykernel)",
   "language": "python",
   "name": "python3"
  },
  "language_info": {
   "codemirror_mode": {
    "name": "ipython",
    "version": 3
   },
   "file_extension": ".py",
   "mimetype": "text/x-python",
   "name": "python",
   "nbconvert_exporter": "python",
   "pygments_lexer": "ipython3",
   "version": "3.10.6"
  }
 },
 "nbformat": 4,
 "nbformat_minor": 5
}
