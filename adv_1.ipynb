{
 "cells": [
  {
   "cell_type": "markdown",
   "id": "7eab6b38-ac6f-450b-adb9-c65a986c1c7d",
   "metadata": {},
   "source": [
    "### 1. Write a function that takes a list of lists and returns the value of all of the symbols in it, where each symbol adds or takes something from the total\n",
    "score. Symbol values:\n",
    "`#` = 5\n",
    "O = 3\n",
    "X = 1\n",
    "! = -1\n",
    "!! = -3\n",
    "!!! = -5"
   ]
  },
  {
   "cell_type": "code",
   "execution_count": 3,
   "id": "5caca4db-a99f-4be2-82f2-01a612e64062",
   "metadata": {},
   "outputs": [],
   "source": [
    "def calculate_score(lst):\n",
    "    symbol_values = {'#': 5, 'O': 3, 'X': 1, '!': -1, '!!': -3, '!!!': -5}\n",
    "    total_score = 0\n",
    "\n",
    "    for sublist in lst:\n",
    "        for symbol in sublist:\n",
    "            if symbol in symbol_values:\n",
    "                total_score += symbol_values[symbol]\n",
    "\n",
    "    if total_score < 0:\n",
    "        return 0\n",
    "    else:\n",
    "        return total_score\n"
   ]
  },
  {
   "cell_type": "code",
   "execution_count": 8,
   "id": "8ff0ab95-0501-475f-9b07-8f9b0b218b30",
   "metadata": {},
   "outputs": [
    {
     "data": {
      "text/plain": [
       "2"
      ]
     },
     "execution_count": 8,
     "metadata": {},
     "output_type": "execute_result"
    }
   ],
   "source": [
    "calculate_score([[\"#\", \"!\"],[\"!!\", \"X\"]])\n"
   ]
  },
  {
   "cell_type": "code",
   "execution_count": 10,
   "id": "e7afb386-f1c5-442b-b1a1-d9e170dced9d",
   "metadata": {},
   "outputs": [
    {
     "data": {
      "text/plain": [
       "0"
      ]
     },
     "execution_count": 10,
     "metadata": {},
     "output_type": "execute_result"
    }
   ],
   "source": [
    "\n",
    "calculate_score([[\"!!!\", \"O\", \"!\"],[\"X\", \"#\", \"!!!\"],[\"!!\", \"X\", \"O\"]])"
   ]
  },
  {
   "cell_type": "markdown",
   "id": "4136050e-c237-478f-a712-fc53cc648388",
   "metadata": {},
   "source": [
    "### 2. Create a function that takes a variable number of arguments, each argument representing the number of items in a group, and returns the number of permutations (combinations) of items that you could get by taking one item from each group."
   ]
  },
  {
   "cell_type": "code",
   "execution_count": 11,
   "id": "08ef6409-1adf-4809-a5bc-529c7638ac8d",
   "metadata": {},
   "outputs": [],
   "source": [
    "def calculate_permutations(*args):\n",
    "    total_permutations = 1\n",
    "    for num_items in args:\n",
    "        total_permutations *= num_items\n",
    "    return total_permutations\n"
   ]
  },
  {
   "cell_type": "code",
   "execution_count": 15,
   "id": "55fa1b74-0e47-41d6-9ef3-329527b5b90b",
   "metadata": {},
   "outputs": [
    {
     "name": "stdout",
     "output_type": "stream",
     "text": [
      "6\n",
      "84\n",
      "120\n"
     ]
    }
   ],
   "source": [
    "permutations = calculate_permutations(2,3)\n",
    "print(permutations)  \n",
    "\n",
    "permutations = calculate_permutations(3,7,4)\n",
    "print(permutations) \n",
    "\n",
    "permutations = calculate_permutations(2,3,4,5)\n",
    "print(permutations)"
   ]
  },
  {
   "cell_type": "markdown",
   "id": "3d21d0b0-ed96-43b4-8d2c-817e7f33ccf0",
   "metadata": {},
   "source": [
    "3.Create a function that takes a string as an argument and returns the Morse code equivalent.\n",
    "Examples:\n",
    "\n",
    "`encode_morse(\"EDABBIT CHALLENGE\") ➞ \". -.. .- -... -... .. - -.-. .... .- .-.. .-... -. --. .\"\n",
    "encode_morse(\"HELP ME !\") ➞ \".... . .-.. .--. -- . -.-.--\"`\n",
    "\n",
    "This dictionary can be used for coding:\n",
    "\n",
    "`char_to_dots = { 'A': '.-', 'B': '-...', 'C': '-.-.', 'D': '-..', 'E': '.', 'F': '..-.', 'G': '--.', 'H': '....', 'I': '..', 'J': '.---', 'K': '-.-', 'L': '.-..', 'M': '--', 'N': '-.', 'O': '---', 'P': '.--.', 'Q': '--.-', 'R': '.-.', 'S': '...', 'T': '-', 'U': '..-', 'V': '...-', 'W': '.--', 'X': '-..-', 'Y': '-.--', 'Z': '--..', ' ': ' ', '0': '-----', '1': '.----', '2': '..---', '3': '...--', '4': '....-', '5': '.....', '6': '-....', '7': '--...', '8': '---..', '9': '----.', '&': '.-...', \"'\": '.----.', '@': '.--.-.', ')': '-.--.-', '(': '-.--.', ':': '---...', ',': '--..--', '=': '-...-', '!': '-.-.--', '.': '.-.-.-', '-': '-....-', '+': '.-.-.', '\"': '.-..-.', '?': '..--..', '/': '-..-.' }`"
   ]
  },
  {
   "cell_type": "code",
   "execution_count": 16,
   "id": "d352d4f4-eaed-485e-8ae3-98cdadff7f22",
   "metadata": {},
   "outputs": [
    {
     "name": "stdout",
     "output_type": "stream",
     "text": [
      ". -.. .- -... -... .. -   -.-. .... .- .-.. .-.. . -. --. .\n",
      ".... . .-.. .--.   -- .   -.-.--\n"
     ]
    }
   ],
   "source": [
    "def encode_morse(string):\n",
    "    char_to_dots = {'A': '.-', 'B': '-...', 'C': '-.-.', 'D': '-..', 'E': '.', 'F': '..-.', 'G': '--.', 'H': '....',\n",
    "                    'I': '..', 'J': '.---', 'K': '-.-', 'L': '.-..', 'M': '--', 'N': '-.', 'O': '---', 'P': '.--.',\n",
    "                    'Q': '--.-', 'R': '.-.', 'S': '...', 'T': '-', 'U': '..-', 'V': '...-', 'W': '.--', 'X': '-..-',\n",
    "                    'Y': '-.--', 'Z': '--..', ' ': ' ', '0': '-----', '1': '.----', '2': '..---', '3': '...--',\n",
    "                    '4': '....-', '5': '.....', '6': '-....', '7': '--...', '8': '---..', '9': '----.', '&': '.-...',\n",
    "                    \"'\": '.----.', '@': '.--.-.', ')': '-.--.-', '(': '-.--.', ':': '---...', ',': '--..--',\n",
    "                    '=': '-...-', '!': '-.-.--', '.': '.-.-.-', '-': '-....-', '+': '.-.-.', '\"': '.-..-.',\n",
    "                    '?': '..--..', '/': '-..-.'}\n",
    "\n",
    "    morse_code = ''\n",
    "    for char in string:\n",
    "        if char.upper() in char_to_dots:\n",
    "            morse_code += char_to_dots[char.upper()] + ' '\n",
    "\n",
    "    return morse_code.strip()\n",
    "\n",
    "print(encode_morse(\"EDABBIT CHALLENGE\"))\n",
    "\n",
    "print(encode_morse(\"HELP ME !\"))\n",
    "\n"
   ]
  },
  {
   "cell_type": "markdown",
   "id": "b9deb198-7efd-475e-bd1f-5b4ba7e166d8",
   "metadata": {},
   "source": [
    "### 4.Write a function that takes a number and returns True if it's a prime; False otherwise. The number can be 2^64-1 (2 to the power of 63, not XOR). With the standard technique it would be O(2^64-1), which is much too large for the 10 second time limit.\n",
    "\n",
    "Examples:\n",
    "\n",
    "prime(7) ➞ True\n",
    "\n",
    "prime(56963) ➞ True\n",
    "\n",
    "prime(5151512515524) ➞ False"
   ]
  },
  {
   "cell_type": "code",
   "execution_count": 17,
   "id": "3ed51250-a9ce-4aba-a977-b79ffcee177b",
   "metadata": {},
   "outputs": [],
   "source": [
    "import math\n",
    "\n",
    "def is_prime(n):\n",
    "    if n <= 1:\n",
    "        return False\n",
    "    \n",
    "    # Check for divisibility from 2 to the square root of n\n",
    "    for i in range(2, int(math.sqrt(n)) + 1):\n",
    "        if n % i == 0:\n",
    "            return False\n",
    "    \n",
    "    return True\n"
   ]
  },
  {
   "cell_type": "code",
   "execution_count": 19,
   "id": "f7a3464e-5956-4232-973d-c5d415c3280e",
   "metadata": {},
   "outputs": [
    {
     "name": "stdout",
     "output_type": "stream",
     "text": [
      "True\n",
      "True\n",
      "False\n"
     ]
    }
   ],
   "source": [
    "print(is_prime(7))\n",
    "print(is_prime(56963))\n",
    "print(is_prime(5151512515524))"
   ]
  },
  {
   "cell_type": "markdown",
   "id": "62853085-4b1a-4a45-9748-2e3fae8121f6",
   "metadata": {},
   "source": [
    "### 5.Create a function that converts a word to a bitstring and then to a boolean list based on the following criteria:\n",
    "\n",
    "1. Locate the position of the letter in the English alphabet (from 1 to 26).\n",
    "\n",
    "2. Odd positions will be represented as 1 and 0 otherwise.\n",
    "\n",
    "3. Convert the represented positions to boolean values, 1 for True and 0 for False.\n",
    "\n",
    "4. Store the conversions into an array.\n",
    "\n",
    "Examples:\n",
    "\n",
    "`to_boolean_list(\"deep\") ➞ [False, True, True, False]\n",
    "\n",
    "deep converts to 0110\n",
    "\n",
    "d is the 4th alphabet - 0\n",
    "\n",
    "e is the 5th alphabet - 1\n",
    "\n",
    "e is the 5th alphabet - 1\n",
    "\n",
    "p is the 16th alphabet - 0\n",
    "\n",
    "to_boolean_list(\"loves\") ➞ [False, True, False, True, True]\n",
    "\n",
    "to_boolean_list(\"tesh\") ➞ [False, True, True, False]`"
   ]
  },
  {
   "cell_type": "code",
   "execution_count": 20,
   "id": "3f23225a-9e70-46da-8612-ca555071d956",
   "metadata": {},
   "outputs": [],
   "source": [
    "def to_boolean_list(word):\n",
    "    alphabet = 'abcdefghijklmnopqrstuvwxyz'\n",
    "    boolean_list = []\n",
    "    \n",
    "    for letter in word:\n",
    "        position = alphabet.index(letter.lower()) + 1\n",
    "        is_odd = position % 2 != 0\n",
    "        boolean_list.append(is_odd)\n",
    "    \n",
    "    return boolean_list"
   ]
  },
  {
   "cell_type": "code",
   "execution_count": 21,
   "id": "6d47b05c-b9ad-48be-9a65-a3672a49426c",
   "metadata": {},
   "outputs": [
    {
     "name": "stdout",
     "output_type": "stream",
     "text": [
      "[False, True, True, False]\n",
      "[False, True, False, True, True]\n",
      "[False, True, True, False]\n"
     ]
    }
   ],
   "source": [
    "print(to_boolean_list(\"deep\"))  \n",
    "print(to_boolean_list(\"loves\"))  \n",
    "print(to_boolean_list(\"tesh\"))  \n"
   ]
  },
  {
   "cell_type": "code",
   "execution_count": null,
   "id": "d99829a6-4317-44c8-8a9a-643f668ef2e1",
   "metadata": {},
   "outputs": [],
   "source": []
  }
 ],
 "metadata": {
  "kernelspec": {
   "display_name": "Python 3 (ipykernel)",
   "language": "python",
   "name": "python3"
  },
  "language_info": {
   "codemirror_mode": {
    "name": "ipython",
    "version": 3
   },
   "file_extension": ".py",
   "mimetype": "text/x-python",
   "name": "python",
   "nbconvert_exporter": "python",
   "pygments_lexer": "ipython3",
   "version": "3.10.6"
  }
 },
 "nbformat": 4,
 "nbformat_minor": 5
}
