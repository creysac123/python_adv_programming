{
 "cells": [
  {
   "cell_type": "markdown",
   "id": "cf7161eb-05df-411e-b14a-98501c6d60c4",
   "metadata": {},
   "source": [
    "### 1. In mathematics, the Fibonacci numbers, commonly denoted Fn, form a sequence, called the Fibonacci sequence, such that each number is the sum of the two preceding ones, starting from 0 and 1:\n",
    "\n",
    "The beginning of the sequence is this:\n",
    "\n",
    "0, 1, 1, 2, 3, 5, 8, 13, 21, 34, 55, 89, 144, ...\n",
    "\n",
    "The function fastFib(num) returns the fibonacci number Fn, of the given num\n",
    "as an argument.\n",
    "\n",
    "Examples\n",
    "\n",
    "fib_fast(5) ➞ 5\n",
    "\n",
    "fib_fast(10) ➞ 55\n",
    "\n",
    "fib_fast(20) ➞ 6765\n",
    "\n",
    "fib_fast(50) ➞ 12586269025"
   ]
  },
  {
   "cell_type": "code",
   "execution_count": 1,
   "id": "ef9f49be-3c52-4a27-922e-bdf728a39129",
   "metadata": {},
   "outputs": [
    {
     "name": "stdout",
     "output_type": "stream",
     "text": [
      "5\n",
      "55\n",
      "6765\n",
      "12586269025\n"
     ]
    }
   ],
   "source": [
    "def fib_fast(num):\n",
    "    if num == 0:\n",
    "        return 0\n",
    "    elif num == 1:\n",
    "        return 1\n",
    "    else:\n",
    "        fib_sequence = [0, 1]  # Initialize the Fibonacci sequence with the first two numbers\n",
    "        for i in range(2, num + 1):\n",
    "            fib_sequence.append(fib_sequence[i - 1] + fib_sequence[i - 2])  # Compute the next Fibonacci number\n",
    "        return fib_sequence[num]\n",
    "\n",
    "\n",
    "# Test the function\n",
    "print(fib_fast(5))    \n",
    "print(fib_fast(10))   \n",
    "print(fib_fast(20))   \n",
    "print(fib_fast(50))   \n"
   ]
  },
  {
   "cell_type": "markdown",
   "id": "ed5fedd8-c9a0-4c46-bd53-2b368ee00b15",
   "metadata": {},
   "source": [
    "### 2. Create a function that takes a strings characters as ASCII and returns each characters hexadecimal value as a string.\n",
    "\n",
    "Examples\n",
    "\n",
    "convert_to_hex(&quot;hello world&quot;) ➞ &quot;68 65 6c 6c 6f 20 77 6f 72 6c 64&quot;\n",
    "\n",
    "convert_to_hex(&quot;Big Boi&quot;) ➞ &quot;42 69 67 20 42 6f 69&quot;\n",
    "\n",
    "convert_to_hex(&quot;Marty Poppinson&quot;) ➞ &quot;4d 61 72 74 79 20 50 6f 70 70 69 6e\n",
    "73 6f 6e&quot;"
   ]
  },
  {
   "cell_type": "code",
   "execution_count": 2,
   "id": "737b9663-5358-4747-ae4d-08cc53f9c43d",
   "metadata": {},
   "outputs": [
    {
     "name": "stdout",
     "output_type": "stream",
     "text": [
      "68 65 6c 6c 6f 20 77 6f 72 6c 64\n",
      "42 69 67 20 42 6f 69\n",
      "4d 61 72 74 79 20 50 6f 70 70 69 6e 73 6f 6e\n"
     ]
    }
   ],
   "source": [
    "def convert_to_hex(string):\n",
    "    hex_values = []\n",
    "    for char in string:\n",
    "        hex_values.append(hex(ord(char))[2:])  # Convert ASCII value to hexadecimal and remove the leading \"0x\"\n",
    "    return ' '.join(hex_values)\n",
    "\n",
    "\n",
    "# Test the function\n",
    "print(convert_to_hex(\"hello world\"))       \n",
    "print(convert_to_hex(\"Big Boi\"))            \n",
    "print(convert_to_hex(\"Marty Poppinson\"))    \n"
   ]
  },
  {
   "cell_type": "markdown",
   "id": "3e417bef-6ba4-42bb-aee3-5407335e9bab",
   "metadata": {},
   "source": [
    "### 3. Someone has attempted to censor my strings by replacing every vowel with a *, l*k* th*s. Luckily, I&#39;ve been able to find the vowels that were removed.\n",
    "\n",
    "Given a censored string and a string of the censored vowels, return the\n",
    "original uncensored string.\n",
    "\n",
    "Example\n",
    "\n",
    "`uncensor(&quot;Wh*r* d*d my v*w*ls g*?&quot;, &quot;eeioeo&quot;) ➞ &quot;Where did my vowels go?&quot;`\n",
    "\n",
    "`uncensor(&quot;abcd&quot;, &quot;&quot;) ➞ &quot;abcd&quot;`\n",
    "\n",
    "`uncensor(&quot;*PP*RC*S*&quot;, &quot;UEAE&quot;) ➞ &quot;UPPERCASE&quot;`"
   ]
  },
  {
   "cell_type": "code",
   "execution_count": 3,
   "id": "338f4083-d204-478e-b79b-69ebdf1af293",
   "metadata": {},
   "outputs": [
    {
     "name": "stdout",
     "output_type": "stream",
     "text": [
      "Where did my vowels go?\n",
      "abcd\n",
      "UPPERCASE\n"
     ]
    }
   ],
   "source": [
    "def uncensor(censored_string, vowels):\n",
    "    uncensored_string = censored_string.replace('*', '{}')\n",
    "    return uncensored_string.format(*vowels)\n",
    "\n",
    "\n",
    "# Test the function\n",
    "print(uncensor(\"Wh*r* d*d my v*w*ls g*?\", \"eeioeo\")) \n",
    "print(uncensor(\"abcd\", \"\"))                          \n",
    "print(uncensor(\"*PP*RC*S*\", \"UEAE\"))                 \n"
   ]
  },
  {
   "cell_type": "markdown",
   "id": "a89dce75-dcc7-4668-8071-cfbb00dcd14f",
   "metadata": {},
   "source": [
    "### 4. Write a function that takes an IP address and returns the domain name using PTR DNS records.\n",
    "\n",
    "Example\n",
    "\n",
    "get_domain(&quot;8.8.8.8&quot;) ➞ &quot;dns.google&quot;\n",
    "\n",
    "get_domain(&quot;8.8.4.4&quot;) ➞ &quot;dns.google&quot;"
   ]
  },
  {
   "cell_type": "code",
   "execution_count": 4,
   "id": "42647596-9f3b-460b-bc12-2b9aa62b1706",
   "metadata": {},
   "outputs": [
    {
     "name": "stdout",
     "output_type": "stream",
     "text": [
      "dns.google\n",
      "dns.google\n"
     ]
    }
   ],
   "source": [
    "import socket\n",
    "\n",
    "def get_domain(ip_address):\n",
    "    try:\n",
    "        domain = socket.gethostbyaddr(ip_address)[0]\n",
    "        return domain\n",
    "    except socket.herror:\n",
    "        return None\n",
    "\n",
    "# Test the function\n",
    "print(get_domain(\"8.8.8.8\"))  \n",
    "print(get_domain(\"8.8.4.4\"))  \n"
   ]
  },
  {
   "cell_type": "markdown",
   "id": "c1c36718-76e9-4f32-9467-f6779dbbdf7e",
   "metadata": {},
   "source": [
    "### 5. Create a function that takes an integer n and returns the factorial of factorials. See below examples for a better understanding:\n",
    "\n",
    "Examples\n",
    "\n",
    "fact_of_fact(4) ➞ 288\n",
    "\n",
    "4! * 3! * 2! * 1! = 288\n",
    "\n",
    "fact_of_fact(5) ➞ 34560\n",
    "\n",
    "fact_of_fact(6) ➞ 24883200"
   ]
  },
  {
   "cell_type": "code",
   "execution_count": 6,
   "id": "47d18e37-790c-4c88-9c5c-7a6602ca470a",
   "metadata": {},
   "outputs": [
    {
     "name": "stdout",
     "output_type": "stream",
     "text": [
      "288\n",
      "34560\n",
      "24883200\n"
     ]
    }
   ],
   "source": [
    "def factorial(n):\n",
    "    if n == 0 or n == 1:\n",
    "        return 1\n",
    "    else:\n",
    "        return n * factorial(n - 1)\n",
    "\n",
    "def fact_of_fact(n):\n",
    "    result = 1\n",
    "    for i in range(n, 0, -1):\n",
    "        result *= factorial(i)\n",
    "    return result\n",
    "\n",
    "# Test the function\n",
    "print(fact_of_fact(4))  \n",
    "print(fact_of_fact(5))  \n",
    "print(fact_of_fact(6)) \n"
   ]
  },
  {
   "cell_type": "code",
   "execution_count": null,
   "id": "1dba71c1-129a-499b-b204-0259ab496f7d",
   "metadata": {},
   "outputs": [],
   "source": []
  }
 ],
 "metadata": {
  "kernelspec": {
   "display_name": "Python 3 (ipykernel)",
   "language": "python",
   "name": "python3"
  },
  "language_info": {
   "codemirror_mode": {
    "name": "ipython",
    "version": 3
   },
   "file_extension": ".py",
   "mimetype": "text/x-python",
   "name": "python",
   "nbconvert_exporter": "python",
   "pygments_lexer": "ipython3",
   "version": "3.10.6"
  }
 },
 "nbformat": 4,
 "nbformat_minor": 5
}
